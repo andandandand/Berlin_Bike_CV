{
  "nbformat": 4,
  "nbformat_minor": 0,
  "metadata": {
    "colab": {
      "provenance": [],
      "gpuType": "T4"
    },
    "kernelspec": {
      "name": "python3",
      "display_name": "Python 3"
    },
    "language_info": {
      "name": "python"
    },
    "accelerator": "GPU",
    "widgets": {
      "application/vnd.jupyter.widget-state+json": {
        "6561f9a5461c4b1590eb5cef322f4866": {
          "model_module": "@jupyter-widgets/controls",
          "model_name": "HBoxModel",
          "model_module_version": "1.5.0",
          "state": {
            "_dom_classes": [],
            "_model_module": "@jupyter-widgets/controls",
            "_model_module_version": "1.5.0",
            "_model_name": "HBoxModel",
            "_view_count": null,
            "_view_module": "@jupyter-widgets/controls",
            "_view_module_version": "1.5.0",
            "_view_name": "HBoxView",
            "box_style": "",
            "children": [
              "IPY_MODEL_78a8db4aed274e749f43cc98c76b76ef",
              "IPY_MODEL_8e7bba63c45c43fa8b051cb71628bd32",
              "IPY_MODEL_afdab8c277444c38b71d605eb614951f"
            ],
            "layout": "IPY_MODEL_5f1efd83bc5043a0aad1bb0fbca1fd22"
          }
        },
        "78a8db4aed274e749f43cc98c76b76ef": {
          "model_module": "@jupyter-widgets/controls",
          "model_name": "HTMLModel",
          "model_module_version": "1.5.0",
          "state": {
            "_dom_classes": [],
            "_model_module": "@jupyter-widgets/controls",
            "_model_module_version": "1.5.0",
            "_model_name": "HTMLModel",
            "_view_count": null,
            "_view_module": "@jupyter-widgets/controls",
            "_view_module_version": "1.5.0",
            "_view_name": "HTMLView",
            "description": "",
            "description_tooltip": null,
            "layout": "IPY_MODEL_14fdfd8220f34201b9a144d3e14a441e",
            "placeholder": "​",
            "style": "IPY_MODEL_335f56f1b3f143599b6130ce43d4d3b5",
            "value": "Downloading (…)rocessor_config.json: 100%"
          }
        },
        "8e7bba63c45c43fa8b051cb71628bd32": {
          "model_module": "@jupyter-widgets/controls",
          "model_name": "FloatProgressModel",
          "model_module_version": "1.5.0",
          "state": {
            "_dom_classes": [],
            "_model_module": "@jupyter-widgets/controls",
            "_model_module_version": "1.5.0",
            "_model_name": "FloatProgressModel",
            "_view_count": null,
            "_view_module": "@jupyter-widgets/controls",
            "_view_module_version": "1.5.0",
            "_view_name": "ProgressView",
            "bar_style": "success",
            "description": "",
            "description_tooltip": null,
            "layout": "IPY_MODEL_7cb1400ea621486e8c35c7d11b35e4b6",
            "max": 536,
            "min": 0,
            "orientation": "horizontal",
            "style": "IPY_MODEL_c2a21c71aa894be29edb322a2a2096a9",
            "value": 536
          }
        },
        "afdab8c277444c38b71d605eb614951f": {
          "model_module": "@jupyter-widgets/controls",
          "model_name": "HTMLModel",
          "model_module_version": "1.5.0",
          "state": {
            "_dom_classes": [],
            "_model_module": "@jupyter-widgets/controls",
            "_model_module_version": "1.5.0",
            "_model_name": "HTMLModel",
            "_view_count": null,
            "_view_module": "@jupyter-widgets/controls",
            "_view_module_version": "1.5.0",
            "_view_name": "HTMLView",
            "description": "",
            "description_tooltip": null,
            "layout": "IPY_MODEL_b2b00a6cb63e40c2a7aa8afc38aa9e5e",
            "placeholder": "​",
            "style": "IPY_MODEL_df4d48e6e76d4098b29da0350d0f29c8",
            "value": " 536/536 [00:00&lt;00:00, 35.8kB/s]"
          }
        },
        "5f1efd83bc5043a0aad1bb0fbca1fd22": {
          "model_module": "@jupyter-widgets/base",
          "model_name": "LayoutModel",
          "model_module_version": "1.2.0",
          "state": {
            "_model_module": "@jupyter-widgets/base",
            "_model_module_version": "1.2.0",
            "_model_name": "LayoutModel",
            "_view_count": null,
            "_view_module": "@jupyter-widgets/base",
            "_view_module_version": "1.2.0",
            "_view_name": "LayoutView",
            "align_content": null,
            "align_items": null,
            "align_self": null,
            "border": null,
            "bottom": null,
            "display": null,
            "flex": null,
            "flex_flow": null,
            "grid_area": null,
            "grid_auto_columns": null,
            "grid_auto_flow": null,
            "grid_auto_rows": null,
            "grid_column": null,
            "grid_gap": null,
            "grid_row": null,
            "grid_template_areas": null,
            "grid_template_columns": null,
            "grid_template_rows": null,
            "height": null,
            "justify_content": null,
            "justify_items": null,
            "left": null,
            "margin": null,
            "max_height": null,
            "max_width": null,
            "min_height": null,
            "min_width": null,
            "object_fit": null,
            "object_position": null,
            "order": null,
            "overflow": null,
            "overflow_x": null,
            "overflow_y": null,
            "padding": null,
            "right": null,
            "top": null,
            "visibility": null,
            "width": null
          }
        },
        "14fdfd8220f34201b9a144d3e14a441e": {
          "model_module": "@jupyter-widgets/base",
          "model_name": "LayoutModel",
          "model_module_version": "1.2.0",
          "state": {
            "_model_module": "@jupyter-widgets/base",
            "_model_module_version": "1.2.0",
            "_model_name": "LayoutModel",
            "_view_count": null,
            "_view_module": "@jupyter-widgets/base",
            "_view_module_version": "1.2.0",
            "_view_name": "LayoutView",
            "align_content": null,
            "align_items": null,
            "align_self": null,
            "border": null,
            "bottom": null,
            "display": null,
            "flex": null,
            "flex_flow": null,
            "grid_area": null,
            "grid_auto_columns": null,
            "grid_auto_flow": null,
            "grid_auto_rows": null,
            "grid_column": null,
            "grid_gap": null,
            "grid_row": null,
            "grid_template_areas": null,
            "grid_template_columns": null,
            "grid_template_rows": null,
            "height": null,
            "justify_content": null,
            "justify_items": null,
            "left": null,
            "margin": null,
            "max_height": null,
            "max_width": null,
            "min_height": null,
            "min_width": null,
            "object_fit": null,
            "object_position": null,
            "order": null,
            "overflow": null,
            "overflow_x": null,
            "overflow_y": null,
            "padding": null,
            "right": null,
            "top": null,
            "visibility": null,
            "width": null
          }
        },
        "335f56f1b3f143599b6130ce43d4d3b5": {
          "model_module": "@jupyter-widgets/controls",
          "model_name": "DescriptionStyleModel",
          "model_module_version": "1.5.0",
          "state": {
            "_model_module": "@jupyter-widgets/controls",
            "_model_module_version": "1.5.0",
            "_model_name": "DescriptionStyleModel",
            "_view_count": null,
            "_view_module": "@jupyter-widgets/base",
            "_view_module_version": "1.2.0",
            "_view_name": "StyleView",
            "description_width": ""
          }
        },
        "7cb1400ea621486e8c35c7d11b35e4b6": {
          "model_module": "@jupyter-widgets/base",
          "model_name": "LayoutModel",
          "model_module_version": "1.2.0",
          "state": {
            "_model_module": "@jupyter-widgets/base",
            "_model_module_version": "1.2.0",
            "_model_name": "LayoutModel",
            "_view_count": null,
            "_view_module": "@jupyter-widgets/base",
            "_view_module_version": "1.2.0",
            "_view_name": "LayoutView",
            "align_content": null,
            "align_items": null,
            "align_self": null,
            "border": null,
            "bottom": null,
            "display": null,
            "flex": null,
            "flex_flow": null,
            "grid_area": null,
            "grid_auto_columns": null,
            "grid_auto_flow": null,
            "grid_auto_rows": null,
            "grid_column": null,
            "grid_gap": null,
            "grid_row": null,
            "grid_template_areas": null,
            "grid_template_columns": null,
            "grid_template_rows": null,
            "height": null,
            "justify_content": null,
            "justify_items": null,
            "left": null,
            "margin": null,
            "max_height": null,
            "max_width": null,
            "min_height": null,
            "min_width": null,
            "object_fit": null,
            "object_position": null,
            "order": null,
            "overflow": null,
            "overflow_x": null,
            "overflow_y": null,
            "padding": null,
            "right": null,
            "top": null,
            "visibility": null,
            "width": null
          }
        },
        "c2a21c71aa894be29edb322a2a2096a9": {
          "model_module": "@jupyter-widgets/controls",
          "model_name": "ProgressStyleModel",
          "model_module_version": "1.5.0",
          "state": {
            "_model_module": "@jupyter-widgets/controls",
            "_model_module_version": "1.5.0",
            "_model_name": "ProgressStyleModel",
            "_view_count": null,
            "_view_module": "@jupyter-widgets/base",
            "_view_module_version": "1.2.0",
            "_view_name": "StyleView",
            "bar_color": null,
            "description_width": ""
          }
        },
        "b2b00a6cb63e40c2a7aa8afc38aa9e5e": {
          "model_module": "@jupyter-widgets/base",
          "model_name": "LayoutModel",
          "model_module_version": "1.2.0",
          "state": {
            "_model_module": "@jupyter-widgets/base",
            "_model_module_version": "1.2.0",
            "_model_name": "LayoutModel",
            "_view_count": null,
            "_view_module": "@jupyter-widgets/base",
            "_view_module_version": "1.2.0",
            "_view_name": "LayoutView",
            "align_content": null,
            "align_items": null,
            "align_self": null,
            "border": null,
            "bottom": null,
            "display": null,
            "flex": null,
            "flex_flow": null,
            "grid_area": null,
            "grid_auto_columns": null,
            "grid_auto_flow": null,
            "grid_auto_rows": null,
            "grid_column": null,
            "grid_gap": null,
            "grid_row": null,
            "grid_template_areas": null,
            "grid_template_columns": null,
            "grid_template_rows": null,
            "height": null,
            "justify_content": null,
            "justify_items": null,
            "left": null,
            "margin": null,
            "max_height": null,
            "max_width": null,
            "min_height": null,
            "min_width": null,
            "object_fit": null,
            "object_position": null,
            "order": null,
            "overflow": null,
            "overflow_x": null,
            "overflow_y": null,
            "padding": null,
            "right": null,
            "top": null,
            "visibility": null,
            "width": null
          }
        },
        "df4d48e6e76d4098b29da0350d0f29c8": {
          "model_module": "@jupyter-widgets/controls",
          "model_name": "DescriptionStyleModel",
          "model_module_version": "1.5.0",
          "state": {
            "_model_module": "@jupyter-widgets/controls",
            "_model_module_version": "1.5.0",
            "_model_name": "DescriptionStyleModel",
            "_view_count": null,
            "_view_module": "@jupyter-widgets/base",
            "_view_module_version": "1.2.0",
            "_view_name": "StyleView",
            "description_width": ""
          }
        },
        "82a4059913334c97a866bc79c53024f5": {
          "model_module": "@jupyter-widgets/controls",
          "model_name": "HBoxModel",
          "model_module_version": "1.5.0",
          "state": {
            "_dom_classes": [],
            "_model_module": "@jupyter-widgets/controls",
            "_model_module_version": "1.5.0",
            "_model_name": "HBoxModel",
            "_view_count": null,
            "_view_module": "@jupyter-widgets/controls",
            "_view_module_version": "1.5.0",
            "_view_name": "HBoxView",
            "box_style": "",
            "children": [
              "IPY_MODEL_5841b3891b7a4895927c9a839423942a",
              "IPY_MODEL_fd13215ecb6a494bacd4bd60fce005ed",
              "IPY_MODEL_3b79b0dc588f42498ba5dcd21157813f"
            ],
            "layout": "IPY_MODEL_3536f68927da44a2b20d8da2ad04ca02"
          }
        },
        "5841b3891b7a4895927c9a839423942a": {
          "model_module": "@jupyter-widgets/controls",
          "model_name": "HTMLModel",
          "model_module_version": "1.5.0",
          "state": {
            "_dom_classes": [],
            "_model_module": "@jupyter-widgets/controls",
            "_model_module_version": "1.5.0",
            "_model_name": "HTMLModel",
            "_view_count": null,
            "_view_module": "@jupyter-widgets/controls",
            "_view_module_version": "1.5.0",
            "_view_name": "HTMLView",
            "description": "",
            "description_tooltip": null,
            "layout": "IPY_MODEL_c9d24ad55fc5411fa5596daf4f6a1f80",
            "placeholder": "​",
            "style": "IPY_MODEL_632c7ac0138f4436a4845381e8ce3524",
            "value": "Downloading (…)lve/main/config.json: 100%"
          }
        },
        "fd13215ecb6a494bacd4bd60fce005ed": {
          "model_module": "@jupyter-widgets/controls",
          "model_name": "FloatProgressModel",
          "model_module_version": "1.5.0",
          "state": {
            "_dom_classes": [],
            "_model_module": "@jupyter-widgets/controls",
            "_model_module_version": "1.5.0",
            "_model_name": "FloatProgressModel",
            "_view_count": null,
            "_view_module": "@jupyter-widgets/controls",
            "_view_module_version": "1.5.0",
            "_view_name": "ProgressView",
            "bar_style": "success",
            "description": "",
            "description_tooltip": null,
            "layout": "IPY_MODEL_7bbfa35b5f4a4ccda70d5dc4b1a1bdab",
            "max": 79477,
            "min": 0,
            "orientation": "horizontal",
            "style": "IPY_MODEL_608e85705acb4e5da9520f99917628d3",
            "value": 79477
          }
        },
        "3b79b0dc588f42498ba5dcd21157813f": {
          "model_module": "@jupyter-widgets/controls",
          "model_name": "HTMLModel",
          "model_module_version": "1.5.0",
          "state": {
            "_dom_classes": [],
            "_model_module": "@jupyter-widgets/controls",
            "_model_module_version": "1.5.0",
            "_model_name": "HTMLModel",
            "_view_count": null,
            "_view_module": "@jupyter-widgets/controls",
            "_view_module_version": "1.5.0",
            "_view_name": "HTMLView",
            "description": "",
            "description_tooltip": null,
            "layout": "IPY_MODEL_86a4982fe5964405b2bcae2094112736",
            "placeholder": "​",
            "style": "IPY_MODEL_f8a2de74f6764e4f85561af488b2b684",
            "value": " 79.5k/79.5k [00:00&lt;00:00, 377kB/s]"
          }
        },
        "3536f68927da44a2b20d8da2ad04ca02": {
          "model_module": "@jupyter-widgets/base",
          "model_name": "LayoutModel",
          "model_module_version": "1.2.0",
          "state": {
            "_model_module": "@jupyter-widgets/base",
            "_model_module_version": "1.2.0",
            "_model_name": "LayoutModel",
            "_view_count": null,
            "_view_module": "@jupyter-widgets/base",
            "_view_module_version": "1.2.0",
            "_view_name": "LayoutView",
            "align_content": null,
            "align_items": null,
            "align_self": null,
            "border": null,
            "bottom": null,
            "display": null,
            "flex": null,
            "flex_flow": null,
            "grid_area": null,
            "grid_auto_columns": null,
            "grid_auto_flow": null,
            "grid_auto_rows": null,
            "grid_column": null,
            "grid_gap": null,
            "grid_row": null,
            "grid_template_areas": null,
            "grid_template_columns": null,
            "grid_template_rows": null,
            "height": null,
            "justify_content": null,
            "justify_items": null,
            "left": null,
            "margin": null,
            "max_height": null,
            "max_width": null,
            "min_height": null,
            "min_width": null,
            "object_fit": null,
            "object_position": null,
            "order": null,
            "overflow": null,
            "overflow_x": null,
            "overflow_y": null,
            "padding": null,
            "right": null,
            "top": null,
            "visibility": null,
            "width": null
          }
        },
        "c9d24ad55fc5411fa5596daf4f6a1f80": {
          "model_module": "@jupyter-widgets/base",
          "model_name": "LayoutModel",
          "model_module_version": "1.2.0",
          "state": {
            "_model_module": "@jupyter-widgets/base",
            "_model_module_version": "1.2.0",
            "_model_name": "LayoutModel",
            "_view_count": null,
            "_view_module": "@jupyter-widgets/base",
            "_view_module_version": "1.2.0",
            "_view_name": "LayoutView",
            "align_content": null,
            "align_items": null,
            "align_self": null,
            "border": null,
            "bottom": null,
            "display": null,
            "flex": null,
            "flex_flow": null,
            "grid_area": null,
            "grid_auto_columns": null,
            "grid_auto_flow": null,
            "grid_auto_rows": null,
            "grid_column": null,
            "grid_gap": null,
            "grid_row": null,
            "grid_template_areas": null,
            "grid_template_columns": null,
            "grid_template_rows": null,
            "height": null,
            "justify_content": null,
            "justify_items": null,
            "left": null,
            "margin": null,
            "max_height": null,
            "max_width": null,
            "min_height": null,
            "min_width": null,
            "object_fit": null,
            "object_position": null,
            "order": null,
            "overflow": null,
            "overflow_x": null,
            "overflow_y": null,
            "padding": null,
            "right": null,
            "top": null,
            "visibility": null,
            "width": null
          }
        },
        "632c7ac0138f4436a4845381e8ce3524": {
          "model_module": "@jupyter-widgets/controls",
          "model_name": "DescriptionStyleModel",
          "model_module_version": "1.5.0",
          "state": {
            "_model_module": "@jupyter-widgets/controls",
            "_model_module_version": "1.5.0",
            "_model_name": "DescriptionStyleModel",
            "_view_count": null,
            "_view_module": "@jupyter-widgets/base",
            "_view_module_version": "1.2.0",
            "_view_name": "StyleView",
            "description_width": ""
          }
        },
        "7bbfa35b5f4a4ccda70d5dc4b1a1bdab": {
          "model_module": "@jupyter-widgets/base",
          "model_name": "LayoutModel",
          "model_module_version": "1.2.0",
          "state": {
            "_model_module": "@jupyter-widgets/base",
            "_model_module_version": "1.2.0",
            "_model_name": "LayoutModel",
            "_view_count": null,
            "_view_module": "@jupyter-widgets/base",
            "_view_module_version": "1.2.0",
            "_view_name": "LayoutView",
            "align_content": null,
            "align_items": null,
            "align_self": null,
            "border": null,
            "bottom": null,
            "display": null,
            "flex": null,
            "flex_flow": null,
            "grid_area": null,
            "grid_auto_columns": null,
            "grid_auto_flow": null,
            "grid_auto_rows": null,
            "grid_column": null,
            "grid_gap": null,
            "grid_row": null,
            "grid_template_areas": null,
            "grid_template_columns": null,
            "grid_template_rows": null,
            "height": null,
            "justify_content": null,
            "justify_items": null,
            "left": null,
            "margin": null,
            "max_height": null,
            "max_width": null,
            "min_height": null,
            "min_width": null,
            "object_fit": null,
            "object_position": null,
            "order": null,
            "overflow": null,
            "overflow_x": null,
            "overflow_y": null,
            "padding": null,
            "right": null,
            "top": null,
            "visibility": null,
            "width": null
          }
        },
        "608e85705acb4e5da9520f99917628d3": {
          "model_module": "@jupyter-widgets/controls",
          "model_name": "ProgressStyleModel",
          "model_module_version": "1.5.0",
          "state": {
            "_model_module": "@jupyter-widgets/controls",
            "_model_module_version": "1.5.0",
            "_model_name": "ProgressStyleModel",
            "_view_count": null,
            "_view_module": "@jupyter-widgets/base",
            "_view_module_version": "1.2.0",
            "_view_name": "StyleView",
            "bar_color": null,
            "description_width": ""
          }
        },
        "86a4982fe5964405b2bcae2094112736": {
          "model_module": "@jupyter-widgets/base",
          "model_name": "LayoutModel",
          "model_module_version": "1.2.0",
          "state": {
            "_model_module": "@jupyter-widgets/base",
            "_model_module_version": "1.2.0",
            "_model_name": "LayoutModel",
            "_view_count": null,
            "_view_module": "@jupyter-widgets/base",
            "_view_module_version": "1.2.0",
            "_view_name": "LayoutView",
            "align_content": null,
            "align_items": null,
            "align_self": null,
            "border": null,
            "bottom": null,
            "display": null,
            "flex": null,
            "flex_flow": null,
            "grid_area": null,
            "grid_auto_columns": null,
            "grid_auto_flow": null,
            "grid_auto_rows": null,
            "grid_column": null,
            "grid_gap": null,
            "grid_row": null,
            "grid_template_areas": null,
            "grid_template_columns": null,
            "grid_template_rows": null,
            "height": null,
            "justify_content": null,
            "justify_items": null,
            "left": null,
            "margin": null,
            "max_height": null,
            "max_width": null,
            "min_height": null,
            "min_width": null,
            "object_fit": null,
            "object_position": null,
            "order": null,
            "overflow": null,
            "overflow_x": null,
            "overflow_y": null,
            "padding": null,
            "right": null,
            "top": null,
            "visibility": null,
            "width": null
          }
        },
        "f8a2de74f6764e4f85561af488b2b684": {
          "model_module": "@jupyter-widgets/controls",
          "model_name": "DescriptionStyleModel",
          "model_module_version": "1.5.0",
          "state": {
            "_model_module": "@jupyter-widgets/controls",
            "_model_module_version": "1.5.0",
            "_model_name": "DescriptionStyleModel",
            "_view_count": null,
            "_view_module": "@jupyter-widgets/base",
            "_view_module_version": "1.2.0",
            "_view_name": "StyleView",
            "description_width": ""
          }
        },
        "3c063797ce1145c3adaf186c0d46c5e9": {
          "model_module": "@jupyter-widgets/controls",
          "model_name": "HBoxModel",
          "model_module_version": "1.5.0",
          "state": {
            "_dom_classes": [],
            "_model_module": "@jupyter-widgets/controls",
            "_model_module_version": "1.5.0",
            "_model_name": "HBoxModel",
            "_view_count": null,
            "_view_module": "@jupyter-widgets/controls",
            "_view_module_version": "1.5.0",
            "_view_name": "HBoxView",
            "box_style": "",
            "children": [
              "IPY_MODEL_a5898912ee3e49119bbf245423069e03",
              "IPY_MODEL_9710975492934bcd80253775484b77e5",
              "IPY_MODEL_cc3270ead29449ef88848ded30bb2875"
            ],
            "layout": "IPY_MODEL_8a04223d614142daa294834ec3cb1795"
          }
        },
        "a5898912ee3e49119bbf245423069e03": {
          "model_module": "@jupyter-widgets/controls",
          "model_name": "HTMLModel",
          "model_module_version": "1.5.0",
          "state": {
            "_dom_classes": [],
            "_model_module": "@jupyter-widgets/controls",
            "_model_module_version": "1.5.0",
            "_model_name": "HTMLModel",
            "_view_count": null,
            "_view_module": "@jupyter-widgets/controls",
            "_view_module_version": "1.5.0",
            "_view_name": "HTMLView",
            "description": "",
            "description_tooltip": null,
            "layout": "IPY_MODEL_518189e1dcac46f89a0be7ad166565f6",
            "placeholder": "​",
            "style": "IPY_MODEL_b92d587abfdf47f699f0699262a61135",
            "value": "Downloading pytorch_model.bin: 100%"
          }
        },
        "9710975492934bcd80253775484b77e5": {
          "model_module": "@jupyter-widgets/controls",
          "model_name": "FloatProgressModel",
          "model_module_version": "1.5.0",
          "state": {
            "_dom_classes": [],
            "_model_module": "@jupyter-widgets/controls",
            "_model_module_version": "1.5.0",
            "_model_name": "FloatProgressModel",
            "_view_count": null,
            "_view_module": "@jupyter-widgets/controls",
            "_view_module_version": "1.5.0",
            "_view_name": "ProgressView",
            "bar_style": "success",
            "description": "",
            "description_tooltip": null,
            "layout": "IPY_MODEL_cf825108602644e5b36a375a136e6642",
            "max": 866128837,
            "min": 0,
            "orientation": "horizontal",
            "style": "IPY_MODEL_f0d1b0e0a5964094bef89f7419a9ea90",
            "value": 866128837
          }
        },
        "cc3270ead29449ef88848ded30bb2875": {
          "model_module": "@jupyter-widgets/controls",
          "model_name": "HTMLModel",
          "model_module_version": "1.5.0",
          "state": {
            "_dom_classes": [],
            "_model_module": "@jupyter-widgets/controls",
            "_model_module_version": "1.5.0",
            "_model_name": "HTMLModel",
            "_view_count": null,
            "_view_module": "@jupyter-widgets/controls",
            "_view_module_version": "1.5.0",
            "_view_name": "HTMLView",
            "description": "",
            "description_tooltip": null,
            "layout": "IPY_MODEL_e31e5024a0b446ba88056a1161aa03ce",
            "placeholder": "​",
            "style": "IPY_MODEL_39e91c9e8204488cbe5a16af72fe8d2c",
            "value": " 866M/866M [00:03&lt;00:00, 211MB/s]"
          }
        },
        "8a04223d614142daa294834ec3cb1795": {
          "model_module": "@jupyter-widgets/base",
          "model_name": "LayoutModel",
          "model_module_version": "1.2.0",
          "state": {
            "_model_module": "@jupyter-widgets/base",
            "_model_module_version": "1.2.0",
            "_model_name": "LayoutModel",
            "_view_count": null,
            "_view_module": "@jupyter-widgets/base",
            "_view_module_version": "1.2.0",
            "_view_name": "LayoutView",
            "align_content": null,
            "align_items": null,
            "align_self": null,
            "border": null,
            "bottom": null,
            "display": null,
            "flex": null,
            "flex_flow": null,
            "grid_area": null,
            "grid_auto_columns": null,
            "grid_auto_flow": null,
            "grid_auto_rows": null,
            "grid_column": null,
            "grid_gap": null,
            "grid_row": null,
            "grid_template_areas": null,
            "grid_template_columns": null,
            "grid_template_rows": null,
            "height": null,
            "justify_content": null,
            "justify_items": null,
            "left": null,
            "margin": null,
            "max_height": null,
            "max_width": null,
            "min_height": null,
            "min_width": null,
            "object_fit": null,
            "object_position": null,
            "order": null,
            "overflow": null,
            "overflow_x": null,
            "overflow_y": null,
            "padding": null,
            "right": null,
            "top": null,
            "visibility": null,
            "width": null
          }
        },
        "518189e1dcac46f89a0be7ad166565f6": {
          "model_module": "@jupyter-widgets/base",
          "model_name": "LayoutModel",
          "model_module_version": "1.2.0",
          "state": {
            "_model_module": "@jupyter-widgets/base",
            "_model_module_version": "1.2.0",
            "_model_name": "LayoutModel",
            "_view_count": null,
            "_view_module": "@jupyter-widgets/base",
            "_view_module_version": "1.2.0",
            "_view_name": "LayoutView",
            "align_content": null,
            "align_items": null,
            "align_self": null,
            "border": null,
            "bottom": null,
            "display": null,
            "flex": null,
            "flex_flow": null,
            "grid_area": null,
            "grid_auto_columns": null,
            "grid_auto_flow": null,
            "grid_auto_rows": null,
            "grid_column": null,
            "grid_gap": null,
            "grid_row": null,
            "grid_template_areas": null,
            "grid_template_columns": null,
            "grid_template_rows": null,
            "height": null,
            "justify_content": null,
            "justify_items": null,
            "left": null,
            "margin": null,
            "max_height": null,
            "max_width": null,
            "min_height": null,
            "min_width": null,
            "object_fit": null,
            "object_position": null,
            "order": null,
            "overflow": null,
            "overflow_x": null,
            "overflow_y": null,
            "padding": null,
            "right": null,
            "top": null,
            "visibility": null,
            "width": null
          }
        },
        "b92d587abfdf47f699f0699262a61135": {
          "model_module": "@jupyter-widgets/controls",
          "model_name": "DescriptionStyleModel",
          "model_module_version": "1.5.0",
          "state": {
            "_model_module": "@jupyter-widgets/controls",
            "_model_module_version": "1.5.0",
            "_model_name": "DescriptionStyleModel",
            "_view_count": null,
            "_view_module": "@jupyter-widgets/base",
            "_view_module_version": "1.2.0",
            "_view_name": "StyleView",
            "description_width": ""
          }
        },
        "cf825108602644e5b36a375a136e6642": {
          "model_module": "@jupyter-widgets/base",
          "model_name": "LayoutModel",
          "model_module_version": "1.2.0",
          "state": {
            "_model_module": "@jupyter-widgets/base",
            "_model_module_version": "1.2.0",
            "_model_name": "LayoutModel",
            "_view_count": null,
            "_view_module": "@jupyter-widgets/base",
            "_view_module_version": "1.2.0",
            "_view_name": "LayoutView",
            "align_content": null,
            "align_items": null,
            "align_self": null,
            "border": null,
            "bottom": null,
            "display": null,
            "flex": null,
            "flex_flow": null,
            "grid_area": null,
            "grid_auto_columns": null,
            "grid_auto_flow": null,
            "grid_auto_rows": null,
            "grid_column": null,
            "grid_gap": null,
            "grid_row": null,
            "grid_template_areas": null,
            "grid_template_columns": null,
            "grid_template_rows": null,
            "height": null,
            "justify_content": null,
            "justify_items": null,
            "left": null,
            "margin": null,
            "max_height": null,
            "max_width": null,
            "min_height": null,
            "min_width": null,
            "object_fit": null,
            "object_position": null,
            "order": null,
            "overflow": null,
            "overflow_x": null,
            "overflow_y": null,
            "padding": null,
            "right": null,
            "top": null,
            "visibility": null,
            "width": null
          }
        },
        "f0d1b0e0a5964094bef89f7419a9ea90": {
          "model_module": "@jupyter-widgets/controls",
          "model_name": "ProgressStyleModel",
          "model_module_version": "1.5.0",
          "state": {
            "_model_module": "@jupyter-widgets/controls",
            "_model_module_version": "1.5.0",
            "_model_name": "ProgressStyleModel",
            "_view_count": null,
            "_view_module": "@jupyter-widgets/base",
            "_view_module_version": "1.2.0",
            "_view_name": "StyleView",
            "bar_color": null,
            "description_width": ""
          }
        },
        "e31e5024a0b446ba88056a1161aa03ce": {
          "model_module": "@jupyter-widgets/base",
          "model_name": "LayoutModel",
          "model_module_version": "1.2.0",
          "state": {
            "_model_module": "@jupyter-widgets/base",
            "_model_module_version": "1.2.0",
            "_model_name": "LayoutModel",
            "_view_count": null,
            "_view_module": "@jupyter-widgets/base",
            "_view_module_version": "1.2.0",
            "_view_name": "LayoutView",
            "align_content": null,
            "align_items": null,
            "align_self": null,
            "border": null,
            "bottom": null,
            "display": null,
            "flex": null,
            "flex_flow": null,
            "grid_area": null,
            "grid_auto_columns": null,
            "grid_auto_flow": null,
            "grid_auto_rows": null,
            "grid_column": null,
            "grid_gap": null,
            "grid_row": null,
            "grid_template_areas": null,
            "grid_template_columns": null,
            "grid_template_rows": null,
            "height": null,
            "justify_content": null,
            "justify_items": null,
            "left": null,
            "margin": null,
            "max_height": null,
            "max_width": null,
            "min_height": null,
            "min_width": null,
            "object_fit": null,
            "object_position": null,
            "order": null,
            "overflow": null,
            "overflow_x": null,
            "overflow_y": null,
            "padding": null,
            "right": null,
            "top": null,
            "visibility": null,
            "width": null
          }
        },
        "39e91c9e8204488cbe5a16af72fe8d2c": {
          "model_module": "@jupyter-widgets/controls",
          "model_name": "DescriptionStyleModel",
          "model_module_version": "1.5.0",
          "state": {
            "_model_module": "@jupyter-widgets/controls",
            "_model_module_version": "1.5.0",
            "_model_name": "DescriptionStyleModel",
            "_view_count": null,
            "_view_module": "@jupyter-widgets/base",
            "_view_module_version": "1.2.0",
            "_view_name": "StyleView",
            "description_width": ""
          }
        }
      }
    }
  },
  "cells": [
    {
      "cell_type": "markdown",
      "source": [
        "## Setup"
      ],
      "metadata": {
        "id": "LgO_cZIAjiJu"
      }
    },
    {
      "cell_type": "code",
      "source": [
        "!pip install -q git+https://github.com/huggingface/transformers.git"
      ],
      "metadata": {
        "colab": {
          "base_uri": "https://localhost:8080/"
        },
        "id": "piieCGT8XiB6",
        "outputId": "90d9cf36-073f-4602-887a-0d4e02b23438"
      },
      "execution_count": 8,
      "outputs": [
        {
          "output_type": "stream",
          "name": "stdout",
          "text": [
            "  Installing build dependencies ... \u001b[?25l\u001b[?25hdone\n",
            "  Getting requirements to build wheel ... \u001b[?25l\u001b[?25hdone\n",
            "  Preparing metadata (pyproject.toml) ... \u001b[?25l\u001b[?25hdone\n",
            "\u001b[2K     \u001b[90m━━━━━━━━━━━━━━━━━━━━━━━━━━━━━━━━━━━━━━\u001b[0m \u001b[32m236.8/236.8 kB\u001b[0m \u001b[31m17.6 MB/s\u001b[0m eta \u001b[36m0:00:00\u001b[0m\n",
            "\u001b[2K     \u001b[90m━━━━━━━━━━━━━━━━━━━━━━━━━━━━━━━━━━━━━━━━\u001b[0m \u001b[32m7.8/7.8 MB\u001b[0m \u001b[31m66.3 MB/s\u001b[0m eta \u001b[36m0:00:00\u001b[0m\n",
            "\u001b[2K     \u001b[90m━━━━━━━━━━━━━━━━━━━━━━━━━━━━━━━━━━━━━━━━\u001b[0m \u001b[32m1.3/1.3 MB\u001b[0m \u001b[31m64.0 MB/s\u001b[0m eta \u001b[36m0:00:00\u001b[0m\n",
            "\u001b[?25h  Building wheel for transformers (pyproject.toml) ... \u001b[?25l\u001b[?25hdone\n"
          ]
        }
      ]
    },
    {
      "cell_type": "code",
      "source": [
        "import requests\n",
        "from PIL import Image\n",
        "import io\n",
        "import torch\n",
        "import numpy as np\n",
        "from torchvision import transforms\n",
        "import pickle\n",
        "from numpy import dot\n",
        "from numpy.linalg import norm\n",
        "import time\n",
        "import os\n",
        "from transformers import AutoImageProcessor, Mask2FormerForUniversalSegmentation\n",
        "from pathlib import Path\n",
        "import os"
      ],
      "metadata": {
        "id": "FenY16qyTlIy"
      },
      "execution_count": 9,
      "outputs": []
    },
    {
      "cell_type": "code",
      "source": [
        "# connect to drive\n",
        "from google.colab import drive\n",
        "drive.mount('/gdrive')"
      ],
      "metadata": {
        "colab": {
          "base_uri": "https://localhost:8080/"
        },
        "id": "ffRzjaY03jGP",
        "outputId": "a0c7106e-bab8-4c3f-b065-cae096b93341"
      },
      "execution_count": 10,
      "outputs": [
        {
          "output_type": "stream",
          "name": "stdout",
          "text": [
            "Drive already mounted at /gdrive; to attempt to forcibly remount, call drive.mount(\"/gdrive\", force_remount=True).\n"
          ]
        }
      ]
    },
    {
      "cell_type": "code",
      "source": [
        "path = '/gdrive/MyDrive/berlin_bike_CV/'\n",
        "folder = 'metadata'\n",
        "tile_folder = 'labeled_tiles'\n",
        "name = 'DSR'"
      ],
      "metadata": {
        "id": "7fKiqYwTi7Oa"
      },
      "execution_count": 11,
      "outputs": []
    },
    {
      "cell_type": "markdown",
      "source": [
        "# Print tiles to choose one for tile_quadkey"
      ],
      "metadata": {
        "id": "wXx-84S-ZMVE"
      }
    },
    {
      "cell_type": "code",
      "source": [
        "# load tiles edges file for tiles\n",
        "file_name = '_tiles_edges.pkl'\n",
        "file_path = os.path.join(path, folder, name + file_name)\n",
        "with open(file_path, 'rb') as pickle_file:\n",
        "    tiles_edges = pickle.load(pickle_file)\n",
        "tiles = list(tiles_edges.keys())\n",
        "print(tiles)"
      ],
      "metadata": {
        "colab": {
          "base_uri": "https://localhost:8080/"
        },
        "id": "kz96uMjrZKIb",
        "outputId": "7dc9779d-585f-4760-a8fc-15561d7acdac"
      },
      "execution_count": 12,
      "outputs": [
        {
          "output_type": "stream",
          "name": "stdout",
          "text": [
            "['12021023233301', '12021023233303', '12021023233321', '12021023233323', '12021023233310', '12021023233312', '12021023233330', '12021023233332', '12021023233311', '12021023233313', '12021023233331', '12021023233333', '12021023322200', '12021023322202', '12021023322220', '12021023322222']\n"
          ]
        }
      ]
    },
    {
      "cell_type": "code",
      "source": [
        "tile_quadkey = '12021023233303'"
      ],
      "metadata": {
        "id": "kRArE5YKHjOg"
      },
      "execution_count": 13,
      "outputs": []
    },
    {
      "cell_type": "markdown",
      "source": [
        "## Function definitions"
      ],
      "metadata": {
        "id": "PKSkV5meToRb"
      }
    },
    {
      "cell_type": "code",
      "source": [
        "def load_mapillary_image(image_id):\n",
        "# load image from mapillary based on image ID input\n",
        "\n",
        "  # load mapillary access token\n",
        "  file_path = '/gdrive/MyDrive/mapillary_token.txt'\n",
        "  with open(file_path, 'r') as file:\n",
        "      access_token = file.read()\n",
        "\n",
        "  # request the URL of image\n",
        "  header = {'Authorization' : 'OAuth {}'.format(access_token)}\n",
        "  url = 'https://graph.mapillary.com/{}?fields=thumb_256_url'.format(image_id)\n",
        "  r = requests.get(url, headers=header)\n",
        "  data = r.json()\n",
        "  image_url = data['thumb_256_url']\n",
        "\n",
        "  # get image from URL\n",
        "  image_data = requests.get(image_url, stream=True).content\n",
        "\n",
        "  # convert image data to PIL Image\n",
        "  image = Image.open(io.BytesIO(image_data))\n",
        "\n",
        "  return image"
      ],
      "metadata": {
        "id": "2F4gZvV4OrIl"
      },
      "execution_count": 14,
      "outputs": []
    },
    {
      "cell_type": "code",
      "source": [
        "def bike_lane_detection(image, processor, mask2former):\n",
        "# load mask2former trained on Mapillary Vistas to detect potential bike lanes\n",
        "\n",
        "  # prepare image for processing\n",
        "  img = processor(images=image, return_tensors=\"pt\").to(torch.device(\"cuda\"))\n",
        "\n",
        "  # Move mask2former to GPU\n",
        "  mask2former.to(torch.device(\"cuda\"))\n",
        "\n",
        "  # run inference\n",
        "  with torch.no_grad():\n",
        "    outputs = mask2former(**img)\n",
        "\n",
        "  # pass to processor for postprocessing\n",
        "  predicted_map = processor.post_process_semantic_segmentation(outputs, target_sizes=[image.size[::-1]])[0]\n",
        "\n",
        "  # check if it contains a bike lane\n",
        "  unique_vals = predicted_map.unique()\n",
        "  contains_bike_lane = torch.any(unique_vals == 7)\n",
        "\n",
        "  return contains_bike_lane"
      ],
      "metadata": {
        "id": "g6tfEvG5Un3u"
      },
      "execution_count": 15,
      "outputs": []
    },
    {
      "cell_type": "code",
      "source": [
        "# define image transformations\n",
        "transform = transforms.Compose([\n",
        "    transforms.Resize(256),\n",
        "    transforms.CenterCrop(224), # new size will be 3x224x224\n",
        "    transforms.ToTensor(),\n",
        "    transforms.Normalize(\n",
        "        mean=[0.485, 0.456, 0.406],\n",
        "        std=[0.229, 0.224, 0.225]\n",
        "        )])"
      ],
      "metadata": {
        "id": "NGdXlY8xVaMs"
      },
      "execution_count": 16,
      "outputs": []
    },
    {
      "cell_type": "code",
      "source": [
        "def get_image_features(img_unsqueezed, model):\n",
        "# If it's a bike lane, extract features for bike lane label assignment\n",
        "\n",
        "  # select layer for feature extraction\n",
        "  my_layer = model.head\n",
        "\n",
        "  # put model in evaluation mode for consistent results\n",
        "  model.eval()\n",
        "\n",
        "  # deactivate gradients\n",
        "  for param in model.parameters():\n",
        "     param.requires_grad = False\n",
        "\n",
        "  # create hook on my_layer to get features\n",
        "  features = []\n",
        "  def hook(module, input, output):\n",
        "      features.append(output)\n",
        "\n",
        "  # Move the input tensor to the GPU\n",
        "  img_unsqueezed = img_unsqueezed.to(torch.device(\"cuda\"))\n",
        "\n",
        "  # run foward pass\n",
        "  hook_handle = my_layer.register_forward_hook(hook)  # Register the hook for the current layer\n",
        "  out = model(img_unsqueezed)\n",
        "  hook_handle.remove()  # Remove the hook after extracting features\n",
        "\n",
        "  # extract features, convert to np array\n",
        "  img_features = torch.squeeze(torch.flatten(features[0])).cpu().numpy()\n",
        "\n",
        "  return img_features"
      ],
      "metadata": {
        "id": "n5_O5ABTV-tL"
      },
      "execution_count": 17,
      "outputs": []
    },
    {
      "cell_type": "code",
      "source": [
        "def assign_bikelane_label(img_features):\n",
        "# assing a safety-label to bike lane image based on cosine similarity to medoids\n",
        "\n",
        "  # define cosine similarity function\n",
        "  def cosine_similarity(a, b):\n",
        "    return dot(a, b)/(norm(a)*norm(b))\n",
        "\n",
        "  # Path to the medoid file\n",
        "  file_path = \"/gdrive/My Drive/berlin_bike_CV/final_project_first_images/labelled images/dinoS14_bikelanes_medoids.pickle\"\n",
        "\n",
        "  # Load medoid features and labels\n",
        "  with open(file_path, \"rb\") as myfile:\n",
        "      medoids = pickle.load(myfile)\n",
        "\n",
        "  # extract medoid features\n",
        "  street_lane_medoid = medoids[1]['street_shared'] # bike lanes that are shared with cars on the road\n",
        "  sidewalk_lane_medoid = medoids[1]['off_street'] # bike lanes that are separated and located on the side walk\n",
        "\n",
        "  # compare medoids to our image using cosine similarity\n",
        "  cos2street_lane = cosine_similarity(street_lane_medoid, img_features)\n",
        "  cos2sidewalk_lane = cosine_similarity(sidewalk_lane_medoid, img_features)\n",
        "\n",
        "  # find label. 0 and 1 are used for cobblestone vs. street so we use 2 and 3 here\n",
        "  if cos2sidewalk_lane >= cos2street_lane:\n",
        "    lane_label = 2 # safe bike lane\n",
        "  elif cos2street_lane >  cos2sidewalk_lane:\n",
        "    lane_label = 3 # unsafe bike lane\n",
        "  else:\n",
        "    print(\"Error: Lane comparison values are in wrong format!\")\n",
        "    assert False # stop script\n",
        "\n",
        "  return lane_label"
      ],
      "metadata": {
        "id": "QE9pLySEXMb2"
      },
      "execution_count": 18,
      "outputs": []
    },
    {
      "cell_type": "code",
      "source": [
        "def road_surface_classification(img_unsqueezed, model):\n",
        "# classify street image for cobblestone vs. asphalt\n",
        "\n",
        "  # Move the input tensor to the GPU\n",
        "  img_unsqueezed = img_unsqueezed.to(torch.device(\"cuda\"))\n",
        "\n",
        "  # run inference\n",
        "  with torch.no_grad():\n",
        "      predicted_label = model(img_unsqueezed)\n",
        "\n",
        "  # Get the predicted class\n",
        "  _, predicted_idx = torch.max(predicted_label, 1)\n",
        "  _, label_index = torch.max(predicted_label, dim=1)\n",
        "  my_index = label_index.item()\n",
        "  labels = ['cobblestones', 'road']\n",
        "  predicted_label = labels[my_index]\n",
        "\n",
        "  return predicted_label, my_index"
      ],
      "metadata": {
        "id": "IyBKc3QZYiSS"
      },
      "execution_count": 19,
      "outputs": []
    },
    {
      "cell_type": "code",
      "source": [
        "def run_image_labelling(image_id, processor, mask2former, dino, resnet):\n",
        "# label image\n",
        "\n",
        "  # labels\n",
        "  my_labels = ['cobblestone', 'asphalt', 'safe bike lane', 'unsafe bike lane']\n",
        "\n",
        "  # load image\n",
        "  image = load_mapillary_image(image_id)\n",
        "\n",
        "  # Is it a bike lane or not?\n",
        "  contains_bike_lane = bike_lane_detection(image, processor, mask2former) # use raw image because Mask2Former has its own image processing\n",
        "\n",
        "  # transform image for further processing in models\n",
        "  img_t = transform(image)\n",
        "  img_unsqueezed = torch.unsqueeze(img_t, 0) # add first singleton dimension, the 'batch'\n",
        "\n",
        "  # if image contains bike lane, compare it to medoids\n",
        "  if contains_bike_lane:\n",
        "    print('Image contains bike lane. Moving on to bike-lane labelling.')\n",
        "\n",
        "    # extract features\n",
        "    img_features = get_image_features(img_unsqueezed, dino)\n",
        "\n",
        "    # assign label to bike lane\n",
        "    output_label = assign_bikelane_label(img_features)\n",
        "\n",
        "  else:\n",
        "    print('No bike lane detected. Check if it is a cobblestone street')\n",
        "    predicted_label, output_label = road_surface_classification(img_unsqueezed, resnet)\n",
        "\n",
        "  return image_id, output_label, image"
      ],
      "metadata": {
        "id": "DRhmb4SPcaU4"
      },
      "execution_count": 20,
      "outputs": []
    },
    {
      "cell_type": "markdown",
      "source": [
        "## Load Edges with selected Images"
      ],
      "metadata": {
        "id": "X2fqhNGNjf10"
      }
    },
    {
      "cell_type": "code",
      "source": [
        "# load edges per tile with selected images\n",
        "file_name = '_tiles_edges_with_images.pkl'\n",
        "file_path = os.path.join(path, folder, name + file_name)\n",
        "with open(file_path, 'rb') as pickle_file:\n",
        "  tiles_images = pickle.load(pickle_file)\n",
        "\n",
        "\n",
        "# create new dict for desired tile\n",
        "tile_path = os.path.join(path, tile_folder, tile_quadkey + '_labeled.pkl')\n",
        "# check if target file for this tile exists\n",
        "if os.path.exists(tile_path):\n",
        "  with open(tile_path, 'rb') as pickle_file:\n",
        "    tile_labeled = pickle.load(pickle_file)\n",
        "else:\n",
        "  file_name = '_tiles_edges.pkl'\n",
        "  file_path = os.path.join(path, folder, name + file_name)\n",
        "  with open(file_path, 'rb') as pickle_file:\n",
        "    tiles_edges = pickle.load(pickle_file)\n",
        "  tile_labeled = tiles_edges[tile_quadkey]"
      ],
      "metadata": {
        "id": "0JK8flNsjfBb"
      },
      "execution_count": 21,
      "outputs": []
    },
    {
      "cell_type": "code",
      "source": [],
      "metadata": {
        "id": "b-K8ot7eoEwt"
      },
      "execution_count": 21,
      "outputs": []
    },
    {
      "cell_type": "markdown",
      "source": [
        "## Run image processing"
      ],
      "metadata": {
        "id": "lyrKENbCU8qN"
      }
    },
    {
      "cell_type": "code",
      "source": [
        "# load all models outside loop for speed\n",
        "\n",
        "# mask2former\n",
        "processor = AutoImageProcessor.from_pretrained(\"facebook/mask2former-swin-large-mapillary-vistas-semantic\")\n",
        "mask2former = Mask2FormerForUniversalSegmentation.from_pretrained(\"facebook/mask2former-swin-large-mapillary-vistas-semantic\")\n",
        "\n",
        "# DinoV2\n",
        "dino = torch.hub.load('facebookresearch/dinov2', 'dinov2_vits14').to(torch.device(\"cuda\"))\n",
        "\n",
        "# ResNet\n",
        "model_path = '/gdrive/MyDrive/berlin_bike_CV/CobblestoneModel/finetuned_ResNet101.pt'\n",
        "resnet = torch.load(model_path).to(torch.device(\"cuda\"))\n",
        "\n"
      ],
      "metadata": {
        "colab": {
          "base_uri": "https://localhost:8080/",
          "height": 200,
          "referenced_widgets": [
            "6561f9a5461c4b1590eb5cef322f4866",
            "78a8db4aed274e749f43cc98c76b76ef",
            "8e7bba63c45c43fa8b051cb71628bd32",
            "afdab8c277444c38b71d605eb614951f",
            "5f1efd83bc5043a0aad1bb0fbca1fd22",
            "14fdfd8220f34201b9a144d3e14a441e",
            "335f56f1b3f143599b6130ce43d4d3b5",
            "7cb1400ea621486e8c35c7d11b35e4b6",
            "c2a21c71aa894be29edb322a2a2096a9",
            "b2b00a6cb63e40c2a7aa8afc38aa9e5e",
            "df4d48e6e76d4098b29da0350d0f29c8",
            "82a4059913334c97a866bc79c53024f5",
            "5841b3891b7a4895927c9a839423942a",
            "fd13215ecb6a494bacd4bd60fce005ed",
            "3b79b0dc588f42498ba5dcd21157813f",
            "3536f68927da44a2b20d8da2ad04ca02",
            "c9d24ad55fc5411fa5596daf4f6a1f80",
            "632c7ac0138f4436a4845381e8ce3524",
            "7bbfa35b5f4a4ccda70d5dc4b1a1bdab",
            "608e85705acb4e5da9520f99917628d3",
            "86a4982fe5964405b2bcae2094112736",
            "f8a2de74f6764e4f85561af488b2b684",
            "3c063797ce1145c3adaf186c0d46c5e9",
            "a5898912ee3e49119bbf245423069e03",
            "9710975492934bcd80253775484b77e5",
            "cc3270ead29449ef88848ded30bb2875",
            "8a04223d614142daa294834ec3cb1795",
            "518189e1dcac46f89a0be7ad166565f6",
            "b92d587abfdf47f699f0699262a61135",
            "cf825108602644e5b36a375a136e6642",
            "f0d1b0e0a5964094bef89f7419a9ea90",
            "e31e5024a0b446ba88056a1161aa03ce",
            "39e91c9e8204488cbe5a16af72fe8d2c"
          ]
        },
        "id": "r797BL26aCso",
        "outputId": "5c2eaba9-b821-4d76-f273-cc331f990e3b"
      },
      "execution_count": 22,
      "outputs": [
        {
          "output_type": "display_data",
          "data": {
            "text/plain": [
              "Downloading (…)rocessor_config.json:   0%|          | 0.00/536 [00:00<?, ?B/s]"
            ],
            "application/vnd.jupyter.widget-view+json": {
              "version_major": 2,
              "version_minor": 0,
              "model_id": "6561f9a5461c4b1590eb5cef322f4866"
            }
          },
          "metadata": {}
        },
        {
          "output_type": "display_data",
          "data": {
            "text/plain": [
              "Downloading (…)lve/main/config.json:   0%|          | 0.00/79.5k [00:00<?, ?B/s]"
            ],
            "application/vnd.jupyter.widget-view+json": {
              "version_major": 2,
              "version_minor": 0,
              "model_id": "82a4059913334c97a866bc79c53024f5"
            }
          },
          "metadata": {}
        },
        {
          "output_type": "display_data",
          "data": {
            "text/plain": [
              "Downloading pytorch_model.bin:   0%|          | 0.00/866M [00:00<?, ?B/s]"
            ],
            "application/vnd.jupyter.widget-view+json": {
              "version_major": 2,
              "version_minor": 0,
              "model_id": "3c063797ce1145c3adaf186c0d46c5e9"
            }
          },
          "metadata": {}
        },
        {
          "output_type": "stream",
          "name": "stderr",
          "text": [
            "Downloading: \"https://github.com/facebookresearch/dinov2/zipball/main\" to /root/.cache/torch/hub/main.zip\n",
            "WARNING:dinov2:xFormers not available\n",
            "WARNING:dinov2:xFormers not available\n",
            "Downloading: \"https://dl.fbaipublicfiles.com/dinov2/dinov2_vits14/dinov2_vits14_pretrain.pth\" to /root/.cache/torch/hub/checkpoints/dinov2_vits14_pretrain.pth\n",
            "100%|██████████| 84.2M/84.2M [00:00<00:00, 148MB/s]\n"
          ]
        }
      ]
    },
    {
      "cell_type": "code",
      "source": [
        "# run pipeline for one image and time it\n",
        "\n",
        "for edge in tile_labeled:\n",
        "  # inference only for not yet labeld edges\n",
        "  if not tile_labeled[edge]:\n",
        "    for img in tiles_images[tile_quadkey][edge]:\n",
        "      st = time.time()\n",
        "      image_id = list(img.keys())[0]\n",
        "      print(f\"Infer Image {image_id}...\")\n",
        "      image_id_out, output_label, image = run_image_labelling(image_id, processor, mask2former, dino, resnet)\n",
        "      # TODO: if the image was useless, take next image\n",
        "      image_dict = {'image_id': image_id, 'label': output_label}\n",
        "      image_dict.update(img[image_id])\n",
        "      tile_labeled[edge].append(image_dict)\n",
        "      # tile_labeled[edge][image_id]['label'] = output_label\n",
        "      with open(tile_path, 'wb') as pickle_file:\n",
        "         pickle.dump(tile_labeled, pickle_file)\n",
        "      et = time.time()\n",
        "      # get the execution time\n",
        "      elapsed_time = et - st\n",
        "      print('Execution time:', elapsed_time, 'seconds')\n",
        "      break\n",
        "\n",
        "\n",
        "\n",
        "\n",
        "# # compare label to actual image\n",
        "# my_labels = ['cobblestone', 'asphalt', 'safe bike lane', 'unsafe bike lane']\n",
        "# print('This image shows ' +  my_labels[output_label])\n",
        "\n",
        "# show image to check assigned label\n",
        "# image"
      ],
      "metadata": {
        "colab": {
          "base_uri": "https://localhost:8080/",
          "height": 416
        },
        "id": "DBSHWREqY7tf",
        "outputId": "11e6a0c2-e04a-4053-be7a-1fb454032a19"
      },
      "execution_count": 23,
      "outputs": [
        {
          "output_type": "stream",
          "name": "stdout",
          "text": [
            "Infer Image 802553823972168...\n",
            "Image contains bike lane. Moving on to bike-lane labelling.\n"
          ]
        },
        {
          "output_type": "error",
          "ename": "KeyboardInterrupt",
          "evalue": "ignored",
          "traceback": [
            "\u001b[0;31m---------------------------------------------------------------------------\u001b[0m",
            "\u001b[0;31mKeyboardInterrupt\u001b[0m                         Traceback (most recent call last)",
            "\u001b[0;32m<ipython-input-23-0db6ba8fedfb>\u001b[0m in \u001b[0;36m<cell line: 3>\u001b[0;34m()\u001b[0m\n\u001b[1;32m      8\u001b[0m       \u001b[0mimage_id\u001b[0m \u001b[0;34m=\u001b[0m \u001b[0mlist\u001b[0m\u001b[0;34m(\u001b[0m\u001b[0mimg\u001b[0m\u001b[0;34m.\u001b[0m\u001b[0mkeys\u001b[0m\u001b[0;34m(\u001b[0m\u001b[0;34m)\u001b[0m\u001b[0;34m)\u001b[0m\u001b[0;34m[\u001b[0m\u001b[0;36m0\u001b[0m\u001b[0;34m]\u001b[0m\u001b[0;34m\u001b[0m\u001b[0;34m\u001b[0m\u001b[0m\n\u001b[1;32m      9\u001b[0m       \u001b[0mprint\u001b[0m\u001b[0;34m(\u001b[0m\u001b[0;34mf\"Infer Image {image_id}...\"\u001b[0m\u001b[0;34m)\u001b[0m\u001b[0;34m\u001b[0m\u001b[0;34m\u001b[0m\u001b[0m\n\u001b[0;32m---> 10\u001b[0;31m       \u001b[0mimage_id_out\u001b[0m\u001b[0;34m,\u001b[0m \u001b[0moutput_label\u001b[0m\u001b[0;34m,\u001b[0m \u001b[0mimage\u001b[0m \u001b[0;34m=\u001b[0m \u001b[0mrun_image_labelling\u001b[0m\u001b[0;34m(\u001b[0m\u001b[0mimage_id\u001b[0m\u001b[0;34m,\u001b[0m \u001b[0mprocessor\u001b[0m\u001b[0;34m,\u001b[0m \u001b[0mmask2former\u001b[0m\u001b[0;34m,\u001b[0m \u001b[0mdino\u001b[0m\u001b[0;34m,\u001b[0m \u001b[0mresnet\u001b[0m\u001b[0;34m)\u001b[0m\u001b[0;34m\u001b[0m\u001b[0;34m\u001b[0m\u001b[0m\n\u001b[0m\u001b[1;32m     11\u001b[0m       \u001b[0;31m# TODO: if the image was useless, take next image\u001b[0m\u001b[0;34m\u001b[0m\u001b[0;34m\u001b[0m\u001b[0m\n\u001b[1;32m     12\u001b[0m       \u001b[0mimage_dict\u001b[0m \u001b[0;34m=\u001b[0m \u001b[0;34m{\u001b[0m\u001b[0;34m'image_id'\u001b[0m\u001b[0;34m:\u001b[0m \u001b[0mimage_id\u001b[0m\u001b[0;34m,\u001b[0m \u001b[0;34m'label'\u001b[0m\u001b[0;34m:\u001b[0m \u001b[0moutput_label\u001b[0m\u001b[0;34m}\u001b[0m\u001b[0;34m\u001b[0m\u001b[0;34m\u001b[0m\u001b[0m\n",
            "\u001b[0;32m<ipython-input-20-aaa5935df8ce>\u001b[0m in \u001b[0;36mrun_image_labelling\u001b[0;34m(image_id, processor, mask2former, dino, resnet)\u001b[0m\n\u001b[1;32m     23\u001b[0m \u001b[0;34m\u001b[0m\u001b[0m\n\u001b[1;32m     24\u001b[0m     \u001b[0;31m# assign label to bike lane\u001b[0m\u001b[0;34m\u001b[0m\u001b[0;34m\u001b[0m\u001b[0m\n\u001b[0;32m---> 25\u001b[0;31m     \u001b[0moutput_label\u001b[0m \u001b[0;34m=\u001b[0m \u001b[0massign_bikelane_label\u001b[0m\u001b[0;34m(\u001b[0m\u001b[0mimg_features\u001b[0m\u001b[0;34m)\u001b[0m\u001b[0;34m\u001b[0m\u001b[0;34m\u001b[0m\u001b[0m\n\u001b[0m\u001b[1;32m     26\u001b[0m \u001b[0;34m\u001b[0m\u001b[0m\n\u001b[1;32m     27\u001b[0m   \u001b[0;32melse\u001b[0m\u001b[0;34m:\u001b[0m\u001b[0;34m\u001b[0m\u001b[0;34m\u001b[0m\u001b[0m\n",
            "\u001b[0;32m<ipython-input-18-7f8b446bf54a>\u001b[0m in \u001b[0;36massign_bikelane_label\u001b[0;34m(img_features)\u001b[0m\n\u001b[1;32m     11\u001b[0m   \u001b[0;31m# Load medoid features and labels\u001b[0m\u001b[0;34m\u001b[0m\u001b[0;34m\u001b[0m\u001b[0m\n\u001b[1;32m     12\u001b[0m   \u001b[0;32mwith\u001b[0m \u001b[0mopen\u001b[0m\u001b[0;34m(\u001b[0m\u001b[0mfile_path\u001b[0m\u001b[0;34m,\u001b[0m \u001b[0;34m\"rb\"\u001b[0m\u001b[0;34m)\u001b[0m \u001b[0;32mas\u001b[0m \u001b[0mmyfile\u001b[0m\u001b[0;34m:\u001b[0m\u001b[0;34m\u001b[0m\u001b[0;34m\u001b[0m\u001b[0m\n\u001b[0;32m---> 13\u001b[0;31m       \u001b[0mmedoids\u001b[0m \u001b[0;34m=\u001b[0m \u001b[0mpickle\u001b[0m\u001b[0;34m.\u001b[0m\u001b[0mload\u001b[0m\u001b[0;34m(\u001b[0m\u001b[0mmyfile\u001b[0m\u001b[0;34m)\u001b[0m\u001b[0;34m\u001b[0m\u001b[0;34m\u001b[0m\u001b[0m\n\u001b[0m\u001b[1;32m     14\u001b[0m \u001b[0;34m\u001b[0m\u001b[0m\n\u001b[1;32m     15\u001b[0m   \u001b[0;31m# extract medoid features\u001b[0m\u001b[0;34m\u001b[0m\u001b[0;34m\u001b[0m\u001b[0m\n",
            "\u001b[0;31mKeyboardInterrupt\u001b[0m: "
          ]
        }
      ]
    },
    {
      "cell_type": "code",
      "source": [
        "# with open(tile_path, 'rb') as pickle_file:\n",
        "#   tiles_labeled_reconstr = pickle.load(pickle_file)"
      ],
      "metadata": {
        "id": "luxd9-r5gExw"
      },
      "execution_count": null,
      "outputs": []
    },
    {
      "cell_type": "code",
      "source": [
        "# print(tiles_labeled_reconstr)"
      ],
      "metadata": {
        "id": "2JnL9Ez6j3qh"
      },
      "execution_count": null,
      "outputs": []
    }
  ]
}