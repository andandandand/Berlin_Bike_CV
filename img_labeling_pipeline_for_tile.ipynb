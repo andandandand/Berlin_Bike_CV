{
  "nbformat": 4,
  "nbformat_minor": 0,
  "metadata": {
    "colab": {
      "provenance": [],
      "gpuType": "T4"
    },
    "kernelspec": {
      "name": "python3",
      "display_name": "Python 3"
    },
    "language_info": {
      "name": "python"
    },
    "accelerator": "GPU",
    "widgets": {
      "application/vnd.jupyter.widget-state+json": {
        "3c8167e7a3564dab924ac5da44baa2a9": {
          "model_module": "@jupyter-widgets/controls",
          "model_name": "HBoxModel",
          "model_module_version": "1.5.0",
          "state": {
            "_dom_classes": [],
            "_model_module": "@jupyter-widgets/controls",
            "_model_module_version": "1.5.0",
            "_model_name": "HBoxModel",
            "_view_count": null,
            "_view_module": "@jupyter-widgets/controls",
            "_view_module_version": "1.5.0",
            "_view_name": "HBoxView",
            "box_style": "",
            "children": [
              "IPY_MODEL_ca93d6c09dd14d209f0b218afaa12b83",
              "IPY_MODEL_0c000a5843034d00ac173843701989a1",
              "IPY_MODEL_b416c467d33e44129fea10827f15f31d"
            ],
            "layout": "IPY_MODEL_6e4de3a6c6434e72a0612f7393cde39e"
          }
        },
        "ca93d6c09dd14d209f0b218afaa12b83": {
          "model_module": "@jupyter-widgets/controls",
          "model_name": "HTMLModel",
          "model_module_version": "1.5.0",
          "state": {
            "_dom_classes": [],
            "_model_module": "@jupyter-widgets/controls",
            "_model_module_version": "1.5.0",
            "_model_name": "HTMLModel",
            "_view_count": null,
            "_view_module": "@jupyter-widgets/controls",
            "_view_module_version": "1.5.0",
            "_view_name": "HTMLView",
            "description": "",
            "description_tooltip": null,
            "layout": "IPY_MODEL_d090c8f4eaba4e749c32abeae769ca1b",
            "placeholder": "​",
            "style": "IPY_MODEL_f4073276740b4b1f95fb513db3ea9488",
            "value": "Downloading (…)rocessor_config.json: 100%"
          }
        },
        "0c000a5843034d00ac173843701989a1": {
          "model_module": "@jupyter-widgets/controls",
          "model_name": "FloatProgressModel",
          "model_module_version": "1.5.0",
          "state": {
            "_dom_classes": [],
            "_model_module": "@jupyter-widgets/controls",
            "_model_module_version": "1.5.0",
            "_model_name": "FloatProgressModel",
            "_view_count": null,
            "_view_module": "@jupyter-widgets/controls",
            "_view_module_version": "1.5.0",
            "_view_name": "ProgressView",
            "bar_style": "success",
            "description": "",
            "description_tooltip": null,
            "layout": "IPY_MODEL_7bd47dfcab3945968d7c07632806dbd9",
            "max": 536,
            "min": 0,
            "orientation": "horizontal",
            "style": "IPY_MODEL_ea9ef7ae98af449eba965c154c094963",
            "value": 536
          }
        },
        "b416c467d33e44129fea10827f15f31d": {
          "model_module": "@jupyter-widgets/controls",
          "model_name": "HTMLModel",
          "model_module_version": "1.5.0",
          "state": {
            "_dom_classes": [],
            "_model_module": "@jupyter-widgets/controls",
            "_model_module_version": "1.5.0",
            "_model_name": "HTMLModel",
            "_view_count": null,
            "_view_module": "@jupyter-widgets/controls",
            "_view_module_version": "1.5.0",
            "_view_name": "HTMLView",
            "description": "",
            "description_tooltip": null,
            "layout": "IPY_MODEL_aadb17e3379342209cdba4361a174954",
            "placeholder": "​",
            "style": "IPY_MODEL_d187b1391a73404bb6a7161a927e1388",
            "value": " 536/536 [00:00&lt;00:00, 25.3kB/s]"
          }
        },
        "6e4de3a6c6434e72a0612f7393cde39e": {
          "model_module": "@jupyter-widgets/base",
          "model_name": "LayoutModel",
          "model_module_version": "1.2.0",
          "state": {
            "_model_module": "@jupyter-widgets/base",
            "_model_module_version": "1.2.0",
            "_model_name": "LayoutModel",
            "_view_count": null,
            "_view_module": "@jupyter-widgets/base",
            "_view_module_version": "1.2.0",
            "_view_name": "LayoutView",
            "align_content": null,
            "align_items": null,
            "align_self": null,
            "border": null,
            "bottom": null,
            "display": null,
            "flex": null,
            "flex_flow": null,
            "grid_area": null,
            "grid_auto_columns": null,
            "grid_auto_flow": null,
            "grid_auto_rows": null,
            "grid_column": null,
            "grid_gap": null,
            "grid_row": null,
            "grid_template_areas": null,
            "grid_template_columns": null,
            "grid_template_rows": null,
            "height": null,
            "justify_content": null,
            "justify_items": null,
            "left": null,
            "margin": null,
            "max_height": null,
            "max_width": null,
            "min_height": null,
            "min_width": null,
            "object_fit": null,
            "object_position": null,
            "order": null,
            "overflow": null,
            "overflow_x": null,
            "overflow_y": null,
            "padding": null,
            "right": null,
            "top": null,
            "visibility": null,
            "width": null
          }
        },
        "d090c8f4eaba4e749c32abeae769ca1b": {
          "model_module": "@jupyter-widgets/base",
          "model_name": "LayoutModel",
          "model_module_version": "1.2.0",
          "state": {
            "_model_module": "@jupyter-widgets/base",
            "_model_module_version": "1.2.0",
            "_model_name": "LayoutModel",
            "_view_count": null,
            "_view_module": "@jupyter-widgets/base",
            "_view_module_version": "1.2.0",
            "_view_name": "LayoutView",
            "align_content": null,
            "align_items": null,
            "align_self": null,
            "border": null,
            "bottom": null,
            "display": null,
            "flex": null,
            "flex_flow": null,
            "grid_area": null,
            "grid_auto_columns": null,
            "grid_auto_flow": null,
            "grid_auto_rows": null,
            "grid_column": null,
            "grid_gap": null,
            "grid_row": null,
            "grid_template_areas": null,
            "grid_template_columns": null,
            "grid_template_rows": null,
            "height": null,
            "justify_content": null,
            "justify_items": null,
            "left": null,
            "margin": null,
            "max_height": null,
            "max_width": null,
            "min_height": null,
            "min_width": null,
            "object_fit": null,
            "object_position": null,
            "order": null,
            "overflow": null,
            "overflow_x": null,
            "overflow_y": null,
            "padding": null,
            "right": null,
            "top": null,
            "visibility": null,
            "width": null
          }
        },
        "f4073276740b4b1f95fb513db3ea9488": {
          "model_module": "@jupyter-widgets/controls",
          "model_name": "DescriptionStyleModel",
          "model_module_version": "1.5.0",
          "state": {
            "_model_module": "@jupyter-widgets/controls",
            "_model_module_version": "1.5.0",
            "_model_name": "DescriptionStyleModel",
            "_view_count": null,
            "_view_module": "@jupyter-widgets/base",
            "_view_module_version": "1.2.0",
            "_view_name": "StyleView",
            "description_width": ""
          }
        },
        "7bd47dfcab3945968d7c07632806dbd9": {
          "model_module": "@jupyter-widgets/base",
          "model_name": "LayoutModel",
          "model_module_version": "1.2.0",
          "state": {
            "_model_module": "@jupyter-widgets/base",
            "_model_module_version": "1.2.0",
            "_model_name": "LayoutModel",
            "_view_count": null,
            "_view_module": "@jupyter-widgets/base",
            "_view_module_version": "1.2.0",
            "_view_name": "LayoutView",
            "align_content": null,
            "align_items": null,
            "align_self": null,
            "border": null,
            "bottom": null,
            "display": null,
            "flex": null,
            "flex_flow": null,
            "grid_area": null,
            "grid_auto_columns": null,
            "grid_auto_flow": null,
            "grid_auto_rows": null,
            "grid_column": null,
            "grid_gap": null,
            "grid_row": null,
            "grid_template_areas": null,
            "grid_template_columns": null,
            "grid_template_rows": null,
            "height": null,
            "justify_content": null,
            "justify_items": null,
            "left": null,
            "margin": null,
            "max_height": null,
            "max_width": null,
            "min_height": null,
            "min_width": null,
            "object_fit": null,
            "object_position": null,
            "order": null,
            "overflow": null,
            "overflow_x": null,
            "overflow_y": null,
            "padding": null,
            "right": null,
            "top": null,
            "visibility": null,
            "width": null
          }
        },
        "ea9ef7ae98af449eba965c154c094963": {
          "model_module": "@jupyter-widgets/controls",
          "model_name": "ProgressStyleModel",
          "model_module_version": "1.5.0",
          "state": {
            "_model_module": "@jupyter-widgets/controls",
            "_model_module_version": "1.5.0",
            "_model_name": "ProgressStyleModel",
            "_view_count": null,
            "_view_module": "@jupyter-widgets/base",
            "_view_module_version": "1.2.0",
            "_view_name": "StyleView",
            "bar_color": null,
            "description_width": ""
          }
        },
        "aadb17e3379342209cdba4361a174954": {
          "model_module": "@jupyter-widgets/base",
          "model_name": "LayoutModel",
          "model_module_version": "1.2.0",
          "state": {
            "_model_module": "@jupyter-widgets/base",
            "_model_module_version": "1.2.0",
            "_model_name": "LayoutModel",
            "_view_count": null,
            "_view_module": "@jupyter-widgets/base",
            "_view_module_version": "1.2.0",
            "_view_name": "LayoutView",
            "align_content": null,
            "align_items": null,
            "align_self": null,
            "border": null,
            "bottom": null,
            "display": null,
            "flex": null,
            "flex_flow": null,
            "grid_area": null,
            "grid_auto_columns": null,
            "grid_auto_flow": null,
            "grid_auto_rows": null,
            "grid_column": null,
            "grid_gap": null,
            "grid_row": null,
            "grid_template_areas": null,
            "grid_template_columns": null,
            "grid_template_rows": null,
            "height": null,
            "justify_content": null,
            "justify_items": null,
            "left": null,
            "margin": null,
            "max_height": null,
            "max_width": null,
            "min_height": null,
            "min_width": null,
            "object_fit": null,
            "object_position": null,
            "order": null,
            "overflow": null,
            "overflow_x": null,
            "overflow_y": null,
            "padding": null,
            "right": null,
            "top": null,
            "visibility": null,
            "width": null
          }
        },
        "d187b1391a73404bb6a7161a927e1388": {
          "model_module": "@jupyter-widgets/controls",
          "model_name": "DescriptionStyleModel",
          "model_module_version": "1.5.0",
          "state": {
            "_model_module": "@jupyter-widgets/controls",
            "_model_module_version": "1.5.0",
            "_model_name": "DescriptionStyleModel",
            "_view_count": null,
            "_view_module": "@jupyter-widgets/base",
            "_view_module_version": "1.2.0",
            "_view_name": "StyleView",
            "description_width": ""
          }
        },
        "28b3b5b2b9ce4c50ad30100af3bb504a": {
          "model_module": "@jupyter-widgets/controls",
          "model_name": "HBoxModel",
          "model_module_version": "1.5.0",
          "state": {
            "_dom_classes": [],
            "_model_module": "@jupyter-widgets/controls",
            "_model_module_version": "1.5.0",
            "_model_name": "HBoxModel",
            "_view_count": null,
            "_view_module": "@jupyter-widgets/controls",
            "_view_module_version": "1.5.0",
            "_view_name": "HBoxView",
            "box_style": "",
            "children": [
              "IPY_MODEL_0dd59053361741498a52dd36cb549d37",
              "IPY_MODEL_21be65a57efc40f69c76ca5194224713",
              "IPY_MODEL_c50d31ca7b7446b28be7e1893bbd86cb"
            ],
            "layout": "IPY_MODEL_402a61a1196646ea9a16a034f053acd2"
          }
        },
        "0dd59053361741498a52dd36cb549d37": {
          "model_module": "@jupyter-widgets/controls",
          "model_name": "HTMLModel",
          "model_module_version": "1.5.0",
          "state": {
            "_dom_classes": [],
            "_model_module": "@jupyter-widgets/controls",
            "_model_module_version": "1.5.0",
            "_model_name": "HTMLModel",
            "_view_count": null,
            "_view_module": "@jupyter-widgets/controls",
            "_view_module_version": "1.5.0",
            "_view_name": "HTMLView",
            "description": "",
            "description_tooltip": null,
            "layout": "IPY_MODEL_67d1b89cd67a431f85aee2c1ed076dac",
            "placeholder": "​",
            "style": "IPY_MODEL_b4da7263a6b2442cbae54651dfb938ef",
            "value": "Downloading (…)lve/main/config.json: 100%"
          }
        },
        "21be65a57efc40f69c76ca5194224713": {
          "model_module": "@jupyter-widgets/controls",
          "model_name": "FloatProgressModel",
          "model_module_version": "1.5.0",
          "state": {
            "_dom_classes": [],
            "_model_module": "@jupyter-widgets/controls",
            "_model_module_version": "1.5.0",
            "_model_name": "FloatProgressModel",
            "_view_count": null,
            "_view_module": "@jupyter-widgets/controls",
            "_view_module_version": "1.5.0",
            "_view_name": "ProgressView",
            "bar_style": "success",
            "description": "",
            "description_tooltip": null,
            "layout": "IPY_MODEL_74207e00293b42cba3d74b7b9b34e61c",
            "max": 79477,
            "min": 0,
            "orientation": "horizontal",
            "style": "IPY_MODEL_dd1a147f75004bd6abc383ef136ff8be",
            "value": 79477
          }
        },
        "c50d31ca7b7446b28be7e1893bbd86cb": {
          "model_module": "@jupyter-widgets/controls",
          "model_name": "HTMLModel",
          "model_module_version": "1.5.0",
          "state": {
            "_dom_classes": [],
            "_model_module": "@jupyter-widgets/controls",
            "_model_module_version": "1.5.0",
            "_model_name": "HTMLModel",
            "_view_count": null,
            "_view_module": "@jupyter-widgets/controls",
            "_view_module_version": "1.5.0",
            "_view_name": "HTMLView",
            "description": "",
            "description_tooltip": null,
            "layout": "IPY_MODEL_e4a29d7e16994069917ba3de6729a1c1",
            "placeholder": "​",
            "style": "IPY_MODEL_2a8fb4552c964f499c276efcce737b15",
            "value": " 79.5k/79.5k [00:00&lt;00:00, 3.74MB/s]"
          }
        },
        "402a61a1196646ea9a16a034f053acd2": {
          "model_module": "@jupyter-widgets/base",
          "model_name": "LayoutModel",
          "model_module_version": "1.2.0",
          "state": {
            "_model_module": "@jupyter-widgets/base",
            "_model_module_version": "1.2.0",
            "_model_name": "LayoutModel",
            "_view_count": null,
            "_view_module": "@jupyter-widgets/base",
            "_view_module_version": "1.2.0",
            "_view_name": "LayoutView",
            "align_content": null,
            "align_items": null,
            "align_self": null,
            "border": null,
            "bottom": null,
            "display": null,
            "flex": null,
            "flex_flow": null,
            "grid_area": null,
            "grid_auto_columns": null,
            "grid_auto_flow": null,
            "grid_auto_rows": null,
            "grid_column": null,
            "grid_gap": null,
            "grid_row": null,
            "grid_template_areas": null,
            "grid_template_columns": null,
            "grid_template_rows": null,
            "height": null,
            "justify_content": null,
            "justify_items": null,
            "left": null,
            "margin": null,
            "max_height": null,
            "max_width": null,
            "min_height": null,
            "min_width": null,
            "object_fit": null,
            "object_position": null,
            "order": null,
            "overflow": null,
            "overflow_x": null,
            "overflow_y": null,
            "padding": null,
            "right": null,
            "top": null,
            "visibility": null,
            "width": null
          }
        },
        "67d1b89cd67a431f85aee2c1ed076dac": {
          "model_module": "@jupyter-widgets/base",
          "model_name": "LayoutModel",
          "model_module_version": "1.2.0",
          "state": {
            "_model_module": "@jupyter-widgets/base",
            "_model_module_version": "1.2.0",
            "_model_name": "LayoutModel",
            "_view_count": null,
            "_view_module": "@jupyter-widgets/base",
            "_view_module_version": "1.2.0",
            "_view_name": "LayoutView",
            "align_content": null,
            "align_items": null,
            "align_self": null,
            "border": null,
            "bottom": null,
            "display": null,
            "flex": null,
            "flex_flow": null,
            "grid_area": null,
            "grid_auto_columns": null,
            "grid_auto_flow": null,
            "grid_auto_rows": null,
            "grid_column": null,
            "grid_gap": null,
            "grid_row": null,
            "grid_template_areas": null,
            "grid_template_columns": null,
            "grid_template_rows": null,
            "height": null,
            "justify_content": null,
            "justify_items": null,
            "left": null,
            "margin": null,
            "max_height": null,
            "max_width": null,
            "min_height": null,
            "min_width": null,
            "object_fit": null,
            "object_position": null,
            "order": null,
            "overflow": null,
            "overflow_x": null,
            "overflow_y": null,
            "padding": null,
            "right": null,
            "top": null,
            "visibility": null,
            "width": null
          }
        },
        "b4da7263a6b2442cbae54651dfb938ef": {
          "model_module": "@jupyter-widgets/controls",
          "model_name": "DescriptionStyleModel",
          "model_module_version": "1.5.0",
          "state": {
            "_model_module": "@jupyter-widgets/controls",
            "_model_module_version": "1.5.0",
            "_model_name": "DescriptionStyleModel",
            "_view_count": null,
            "_view_module": "@jupyter-widgets/base",
            "_view_module_version": "1.2.0",
            "_view_name": "StyleView",
            "description_width": ""
          }
        },
        "74207e00293b42cba3d74b7b9b34e61c": {
          "model_module": "@jupyter-widgets/base",
          "model_name": "LayoutModel",
          "model_module_version": "1.2.0",
          "state": {
            "_model_module": "@jupyter-widgets/base",
            "_model_module_version": "1.2.0",
            "_model_name": "LayoutModel",
            "_view_count": null,
            "_view_module": "@jupyter-widgets/base",
            "_view_module_version": "1.2.0",
            "_view_name": "LayoutView",
            "align_content": null,
            "align_items": null,
            "align_self": null,
            "border": null,
            "bottom": null,
            "display": null,
            "flex": null,
            "flex_flow": null,
            "grid_area": null,
            "grid_auto_columns": null,
            "grid_auto_flow": null,
            "grid_auto_rows": null,
            "grid_column": null,
            "grid_gap": null,
            "grid_row": null,
            "grid_template_areas": null,
            "grid_template_columns": null,
            "grid_template_rows": null,
            "height": null,
            "justify_content": null,
            "justify_items": null,
            "left": null,
            "margin": null,
            "max_height": null,
            "max_width": null,
            "min_height": null,
            "min_width": null,
            "object_fit": null,
            "object_position": null,
            "order": null,
            "overflow": null,
            "overflow_x": null,
            "overflow_y": null,
            "padding": null,
            "right": null,
            "top": null,
            "visibility": null,
            "width": null
          }
        },
        "dd1a147f75004bd6abc383ef136ff8be": {
          "model_module": "@jupyter-widgets/controls",
          "model_name": "ProgressStyleModel",
          "model_module_version": "1.5.0",
          "state": {
            "_model_module": "@jupyter-widgets/controls",
            "_model_module_version": "1.5.0",
            "_model_name": "ProgressStyleModel",
            "_view_count": null,
            "_view_module": "@jupyter-widgets/base",
            "_view_module_version": "1.2.0",
            "_view_name": "StyleView",
            "bar_color": null,
            "description_width": ""
          }
        },
        "e4a29d7e16994069917ba3de6729a1c1": {
          "model_module": "@jupyter-widgets/base",
          "model_name": "LayoutModel",
          "model_module_version": "1.2.0",
          "state": {
            "_model_module": "@jupyter-widgets/base",
            "_model_module_version": "1.2.0",
            "_model_name": "LayoutModel",
            "_view_count": null,
            "_view_module": "@jupyter-widgets/base",
            "_view_module_version": "1.2.0",
            "_view_name": "LayoutView",
            "align_content": null,
            "align_items": null,
            "align_self": null,
            "border": null,
            "bottom": null,
            "display": null,
            "flex": null,
            "flex_flow": null,
            "grid_area": null,
            "grid_auto_columns": null,
            "grid_auto_flow": null,
            "grid_auto_rows": null,
            "grid_column": null,
            "grid_gap": null,
            "grid_row": null,
            "grid_template_areas": null,
            "grid_template_columns": null,
            "grid_template_rows": null,
            "height": null,
            "justify_content": null,
            "justify_items": null,
            "left": null,
            "margin": null,
            "max_height": null,
            "max_width": null,
            "min_height": null,
            "min_width": null,
            "object_fit": null,
            "object_position": null,
            "order": null,
            "overflow": null,
            "overflow_x": null,
            "overflow_y": null,
            "padding": null,
            "right": null,
            "top": null,
            "visibility": null,
            "width": null
          }
        },
        "2a8fb4552c964f499c276efcce737b15": {
          "model_module": "@jupyter-widgets/controls",
          "model_name": "DescriptionStyleModel",
          "model_module_version": "1.5.0",
          "state": {
            "_model_module": "@jupyter-widgets/controls",
            "_model_module_version": "1.5.0",
            "_model_name": "DescriptionStyleModel",
            "_view_count": null,
            "_view_module": "@jupyter-widgets/base",
            "_view_module_version": "1.2.0",
            "_view_name": "StyleView",
            "description_width": ""
          }
        },
        "ca10f8cd968d43a1a758efc5c1efdfe6": {
          "model_module": "@jupyter-widgets/controls",
          "model_name": "HBoxModel",
          "model_module_version": "1.5.0",
          "state": {
            "_dom_classes": [],
            "_model_module": "@jupyter-widgets/controls",
            "_model_module_version": "1.5.0",
            "_model_name": "HBoxModel",
            "_view_count": null,
            "_view_module": "@jupyter-widgets/controls",
            "_view_module_version": "1.5.0",
            "_view_name": "HBoxView",
            "box_style": "",
            "children": [
              "IPY_MODEL_cf0f40e228f74a0fac6bf13a1674eb8f",
              "IPY_MODEL_32e101852db443c2806b1ac93ea9f3de",
              "IPY_MODEL_8aea26e555314374a9879bded5a0ea27"
            ],
            "layout": "IPY_MODEL_714ecee078204529a9511e7387f06d97"
          }
        },
        "cf0f40e228f74a0fac6bf13a1674eb8f": {
          "model_module": "@jupyter-widgets/controls",
          "model_name": "HTMLModel",
          "model_module_version": "1.5.0",
          "state": {
            "_dom_classes": [],
            "_model_module": "@jupyter-widgets/controls",
            "_model_module_version": "1.5.0",
            "_model_name": "HTMLModel",
            "_view_count": null,
            "_view_module": "@jupyter-widgets/controls",
            "_view_module_version": "1.5.0",
            "_view_name": "HTMLView",
            "description": "",
            "description_tooltip": null,
            "layout": "IPY_MODEL_752faf8f4a5845e8b0cfe1f066043fca",
            "placeholder": "​",
            "style": "IPY_MODEL_9704fd36f3904332bbaf074cda62d50f",
            "value": "Downloading pytorch_model.bin: 100%"
          }
        },
        "32e101852db443c2806b1ac93ea9f3de": {
          "model_module": "@jupyter-widgets/controls",
          "model_name": "FloatProgressModel",
          "model_module_version": "1.5.0",
          "state": {
            "_dom_classes": [],
            "_model_module": "@jupyter-widgets/controls",
            "_model_module_version": "1.5.0",
            "_model_name": "FloatProgressModel",
            "_view_count": null,
            "_view_module": "@jupyter-widgets/controls",
            "_view_module_version": "1.5.0",
            "_view_name": "ProgressView",
            "bar_style": "success",
            "description": "",
            "description_tooltip": null,
            "layout": "IPY_MODEL_460323cc549c43d0b15f54e74b9fda6b",
            "max": 866128837,
            "min": 0,
            "orientation": "horizontal",
            "style": "IPY_MODEL_87e36dafcb4c4eeda0d7216ac5a72cbc",
            "value": 866128837
          }
        },
        "8aea26e555314374a9879bded5a0ea27": {
          "model_module": "@jupyter-widgets/controls",
          "model_name": "HTMLModel",
          "model_module_version": "1.5.0",
          "state": {
            "_dom_classes": [],
            "_model_module": "@jupyter-widgets/controls",
            "_model_module_version": "1.5.0",
            "_model_name": "HTMLModel",
            "_view_count": null,
            "_view_module": "@jupyter-widgets/controls",
            "_view_module_version": "1.5.0",
            "_view_name": "HTMLView",
            "description": "",
            "description_tooltip": null,
            "layout": "IPY_MODEL_c267f969a91f4080a698f6cd0ddeeda5",
            "placeholder": "​",
            "style": "IPY_MODEL_a7dc70588af242fbac29b355ae6dfb0f",
            "value": " 866M/866M [00:02&lt;00:00, 314MB/s]"
          }
        },
        "714ecee078204529a9511e7387f06d97": {
          "model_module": "@jupyter-widgets/base",
          "model_name": "LayoutModel",
          "model_module_version": "1.2.0",
          "state": {
            "_model_module": "@jupyter-widgets/base",
            "_model_module_version": "1.2.0",
            "_model_name": "LayoutModel",
            "_view_count": null,
            "_view_module": "@jupyter-widgets/base",
            "_view_module_version": "1.2.0",
            "_view_name": "LayoutView",
            "align_content": null,
            "align_items": null,
            "align_self": null,
            "border": null,
            "bottom": null,
            "display": null,
            "flex": null,
            "flex_flow": null,
            "grid_area": null,
            "grid_auto_columns": null,
            "grid_auto_flow": null,
            "grid_auto_rows": null,
            "grid_column": null,
            "grid_gap": null,
            "grid_row": null,
            "grid_template_areas": null,
            "grid_template_columns": null,
            "grid_template_rows": null,
            "height": null,
            "justify_content": null,
            "justify_items": null,
            "left": null,
            "margin": null,
            "max_height": null,
            "max_width": null,
            "min_height": null,
            "min_width": null,
            "object_fit": null,
            "object_position": null,
            "order": null,
            "overflow": null,
            "overflow_x": null,
            "overflow_y": null,
            "padding": null,
            "right": null,
            "top": null,
            "visibility": null,
            "width": null
          }
        },
        "752faf8f4a5845e8b0cfe1f066043fca": {
          "model_module": "@jupyter-widgets/base",
          "model_name": "LayoutModel",
          "model_module_version": "1.2.0",
          "state": {
            "_model_module": "@jupyter-widgets/base",
            "_model_module_version": "1.2.0",
            "_model_name": "LayoutModel",
            "_view_count": null,
            "_view_module": "@jupyter-widgets/base",
            "_view_module_version": "1.2.0",
            "_view_name": "LayoutView",
            "align_content": null,
            "align_items": null,
            "align_self": null,
            "border": null,
            "bottom": null,
            "display": null,
            "flex": null,
            "flex_flow": null,
            "grid_area": null,
            "grid_auto_columns": null,
            "grid_auto_flow": null,
            "grid_auto_rows": null,
            "grid_column": null,
            "grid_gap": null,
            "grid_row": null,
            "grid_template_areas": null,
            "grid_template_columns": null,
            "grid_template_rows": null,
            "height": null,
            "justify_content": null,
            "justify_items": null,
            "left": null,
            "margin": null,
            "max_height": null,
            "max_width": null,
            "min_height": null,
            "min_width": null,
            "object_fit": null,
            "object_position": null,
            "order": null,
            "overflow": null,
            "overflow_x": null,
            "overflow_y": null,
            "padding": null,
            "right": null,
            "top": null,
            "visibility": null,
            "width": null
          }
        },
        "9704fd36f3904332bbaf074cda62d50f": {
          "model_module": "@jupyter-widgets/controls",
          "model_name": "DescriptionStyleModel",
          "model_module_version": "1.5.0",
          "state": {
            "_model_module": "@jupyter-widgets/controls",
            "_model_module_version": "1.5.0",
            "_model_name": "DescriptionStyleModel",
            "_view_count": null,
            "_view_module": "@jupyter-widgets/base",
            "_view_module_version": "1.2.0",
            "_view_name": "StyleView",
            "description_width": ""
          }
        },
        "460323cc549c43d0b15f54e74b9fda6b": {
          "model_module": "@jupyter-widgets/base",
          "model_name": "LayoutModel",
          "model_module_version": "1.2.0",
          "state": {
            "_model_module": "@jupyter-widgets/base",
            "_model_module_version": "1.2.0",
            "_model_name": "LayoutModel",
            "_view_count": null,
            "_view_module": "@jupyter-widgets/base",
            "_view_module_version": "1.2.0",
            "_view_name": "LayoutView",
            "align_content": null,
            "align_items": null,
            "align_self": null,
            "border": null,
            "bottom": null,
            "display": null,
            "flex": null,
            "flex_flow": null,
            "grid_area": null,
            "grid_auto_columns": null,
            "grid_auto_flow": null,
            "grid_auto_rows": null,
            "grid_column": null,
            "grid_gap": null,
            "grid_row": null,
            "grid_template_areas": null,
            "grid_template_columns": null,
            "grid_template_rows": null,
            "height": null,
            "justify_content": null,
            "justify_items": null,
            "left": null,
            "margin": null,
            "max_height": null,
            "max_width": null,
            "min_height": null,
            "min_width": null,
            "object_fit": null,
            "object_position": null,
            "order": null,
            "overflow": null,
            "overflow_x": null,
            "overflow_y": null,
            "padding": null,
            "right": null,
            "top": null,
            "visibility": null,
            "width": null
          }
        },
        "87e36dafcb4c4eeda0d7216ac5a72cbc": {
          "model_module": "@jupyter-widgets/controls",
          "model_name": "ProgressStyleModel",
          "model_module_version": "1.5.0",
          "state": {
            "_model_module": "@jupyter-widgets/controls",
            "_model_module_version": "1.5.0",
            "_model_name": "ProgressStyleModel",
            "_view_count": null,
            "_view_module": "@jupyter-widgets/base",
            "_view_module_version": "1.2.0",
            "_view_name": "StyleView",
            "bar_color": null,
            "description_width": ""
          }
        },
        "c267f969a91f4080a698f6cd0ddeeda5": {
          "model_module": "@jupyter-widgets/base",
          "model_name": "LayoutModel",
          "model_module_version": "1.2.0",
          "state": {
            "_model_module": "@jupyter-widgets/base",
            "_model_module_version": "1.2.0",
            "_model_name": "LayoutModel",
            "_view_count": null,
            "_view_module": "@jupyter-widgets/base",
            "_view_module_version": "1.2.0",
            "_view_name": "LayoutView",
            "align_content": null,
            "align_items": null,
            "align_self": null,
            "border": null,
            "bottom": null,
            "display": null,
            "flex": null,
            "flex_flow": null,
            "grid_area": null,
            "grid_auto_columns": null,
            "grid_auto_flow": null,
            "grid_auto_rows": null,
            "grid_column": null,
            "grid_gap": null,
            "grid_row": null,
            "grid_template_areas": null,
            "grid_template_columns": null,
            "grid_template_rows": null,
            "height": null,
            "justify_content": null,
            "justify_items": null,
            "left": null,
            "margin": null,
            "max_height": null,
            "max_width": null,
            "min_height": null,
            "min_width": null,
            "object_fit": null,
            "object_position": null,
            "order": null,
            "overflow": null,
            "overflow_x": null,
            "overflow_y": null,
            "padding": null,
            "right": null,
            "top": null,
            "visibility": null,
            "width": null
          }
        },
        "a7dc70588af242fbac29b355ae6dfb0f": {
          "model_module": "@jupyter-widgets/controls",
          "model_name": "DescriptionStyleModel",
          "model_module_version": "1.5.0",
          "state": {
            "_model_module": "@jupyter-widgets/controls",
            "_model_module_version": "1.5.0",
            "_model_name": "DescriptionStyleModel",
            "_view_count": null,
            "_view_module": "@jupyter-widgets/base",
            "_view_module_version": "1.2.0",
            "_view_name": "StyleView",
            "description_width": ""
          }
        }
      }
    }
  },
  "cells": [
    {
      "cell_type": "markdown",
      "source": [
        "## Setup"
      ],
      "metadata": {
        "id": "LgO_cZIAjiJu"
      }
    },
    {
      "cell_type": "code",
      "source": [
        "!pip install -q git+https://github.com/huggingface/transformers.git"
      ],
      "metadata": {
        "id": "piieCGT8XiB6"
      },
      "execution_count": null,
      "outputs": []
    },
    {
      "cell_type": "code",
      "source": [
        "import requests\n",
        "from PIL import Image\n",
        "import io\n",
        "import torch\n",
        "import numpy as np\n",
        "from torchvision import transforms\n",
        "import pickle\n",
        "from numpy import dot\n",
        "from numpy.linalg import norm\n",
        "import time\n",
        "import os\n",
        "from transformers import AutoImageProcessor, Mask2FormerForUniversalSegmentation\n",
        "from pathlib import Path"
      ],
      "metadata": {
        "id": "FenY16qyTlIy"
      },
      "execution_count": 2,
      "outputs": []
    },
    {
      "cell_type": "markdown",
      "source": [
        "# Mount to gdrive"
      ],
      "metadata": {
        "id": "H3_fE8hCM80q"
      }
    },
    {
      "cell_type": "code",
      "source": [
        "# connect to drive\n",
        "from google.colab import drive\n",
        "drive.mount('/gdrive')"
      ],
      "metadata": {
        "colab": {
          "base_uri": "https://localhost:8080/"
        },
        "id": "ffRzjaY03jGP",
        "outputId": "bb568daa-1a3d-4370-d013-895c0d3ad0fb"
      },
      "execution_count": 3,
      "outputs": [
        {
          "output_type": "stream",
          "name": "stdout",
          "text": [
            "Mounted at /gdrive\n"
          ]
        }
      ]
    },
    {
      "cell_type": "markdown",
      "source": [
        "# Setup"
      ],
      "metadata": {
        "id": "84O5y4fCNAsA"
      }
    },
    {
      "cell_type": "code",
      "source": [
        "path = '/gdrive/MyDrive/berlin_bike_CV/'\n",
        "folder = 'metadata'\n",
        "tile_folder = 'labeled_tiles'\n",
        "name = 'DSR'\n",
        "\n",
        "labels = ['road', 'cobblestones']\n",
        "labels_set = ['asphalt', 'cobblestone', 'safe bike lane', 'unsafe bike lane', 'non']"
      ],
      "metadata": {
        "id": "7fKiqYwTi7Oa"
      },
      "execution_count": 4,
      "outputs": []
    },
    {
      "cell_type": "code",
      "source": [
        "# load tiles edges file for tiles\n",
        "file_name = '_tiles_edges.pkl'\n",
        "file_path = os.path.join(path, folder, name + file_name)\n",
        "with open(file_path, 'rb') as pickle_file:\n",
        "    tiles_edges = pickle.load(pickle_file)\n",
        "tiles = list(tiles_edges.keys())"
      ],
      "metadata": {
        "id": "kz96uMjrZKIb"
      },
      "execution_count": 5,
      "outputs": []
    },
    {
      "cell_type": "markdown",
      "source": [
        "## Function definitions"
      ],
      "metadata": {
        "id": "PKSkV5meToRb"
      }
    },
    {
      "cell_type": "code",
      "source": [
        "def load_mapillary_image(image_id):\n",
        "# load image from mapillary based on image ID input\n",
        "\n",
        "  # load mapillary access token\n",
        "  file_path = '/gdrive/MyDrive/mapillary_token.txt'\n",
        "  with open(file_path, 'r') as file:\n",
        "      access_token = file.read()\n",
        "\n",
        "  # request the URL of image\n",
        "  header = {'Authorization' : 'OAuth {}'.format(access_token)}\n",
        "  url = 'https://graph.mapillary.com/{}?fields=thumb_1024_url'.format(image_id)\n",
        "  r = requests.get(url, headers=header)\n",
        "  data = r.json()\n",
        "  image_url = data['thumb_1024_url']\n",
        "\n",
        "  # get image from URL\n",
        "  image_data = requests.get(image_url, stream=True).content\n",
        "\n",
        "  # convert image data to PIL Image\n",
        "  image = Image.open(io.BytesIO(image_data))\n",
        "\n",
        "  return image"
      ],
      "metadata": {
        "id": "2F4gZvV4OrIl"
      },
      "execution_count": 6,
      "outputs": []
    },
    {
      "cell_type": "code",
      "source": [
        "def bike_lane_detection(image, processor, mask2former):\n",
        "# load mask2former trained on Mapillary Vistas to detect potential bike lanes\n",
        "\n",
        "  # prepare image for processing\n",
        "  img = processor(images=image, return_tensors=\"pt\").to(torch.device(\"cuda\"))\n",
        "\n",
        "  # Move mask2former to GPU\n",
        "  mask2former.to(torch.device(\"cuda\"))\n",
        "\n",
        "  # run inference\n",
        "  with torch.no_grad():\n",
        "    outputs = mask2former(**img)\n",
        "\n",
        "  # pass to processor for postprocessing\n",
        "  predicted_map = processor.post_process_semantic_segmentation(outputs, target_sizes=[image.size[::-1]])[0]\n",
        "\n",
        "  # check if it contains a bike lane\n",
        "  unique_vals = predicted_map.unique()\n",
        "  contains_bike_lane = torch.any(unique_vals == 7)\n",
        "\n",
        "  return contains_bike_lane"
      ],
      "metadata": {
        "id": "g6tfEvG5Un3u"
      },
      "execution_count": 7,
      "outputs": []
    },
    {
      "cell_type": "code",
      "source": [
        "# define image transformations\n",
        "transform = transforms.Compose([\n",
        "    transforms.Resize(256),\n",
        "    transforms.CenterCrop(224), # new size will be 3x224x224\n",
        "    transforms.ToTensor(),\n",
        "    transforms.Normalize(\n",
        "        mean=[0.485, 0.456, 0.406],\n",
        "        std=[0.229, 0.224, 0.225]\n",
        "        )])"
      ],
      "metadata": {
        "id": "NGdXlY8xVaMs"
      },
      "execution_count": 8,
      "outputs": []
    },
    {
      "cell_type": "code",
      "source": [
        "def get_image_features(img_unsqueezed, model):\n",
        "# If it's a bike lane, extract features for bike lane label assignment\n",
        "\n",
        "  # select layer for feature extraction\n",
        "  my_layer = model.head\n",
        "\n",
        "  # put model in evaluation mode for consistent results\n",
        "  model.eval()\n",
        "\n",
        "  # deactivate gradients\n",
        "  for param in model.parameters():\n",
        "     param.requires_grad = False\n",
        "\n",
        "  # create hook on my_layer to get features\n",
        "  features = []\n",
        "  def hook(module, input, output):\n",
        "      features.append(output)\n",
        "\n",
        "  # Move the input tensor to the GPU\n",
        "  img_unsqueezed = img_unsqueezed.to(torch.device(\"cuda\"))\n",
        "\n",
        "  # run foward pass\n",
        "  hook_handle = my_layer.register_forward_hook(hook)  # Register the hook for the current layer\n",
        "  out = model(img_unsqueezed)\n",
        "  hook_handle.remove()  # Remove the hook after extracting features\n",
        "\n",
        "  # extract features, convert to np array\n",
        "  img_features = torch.squeeze(torch.flatten(features[0])).cpu().numpy()\n",
        "\n",
        "  return img_features"
      ],
      "metadata": {
        "id": "n5_O5ABTV-tL"
      },
      "execution_count": 9,
      "outputs": []
    },
    {
      "cell_type": "code",
      "source": [
        "def assign_bikelane_label(img_features):\n",
        "# assing a safety-label to bike lane image based on cosine similarity to medoids\n",
        "\n",
        "  # define cosine similarity function\n",
        "  def cosine_similarity(a, b):\n",
        "    return dot(a, b)/(norm(a)*norm(b))\n",
        "\n",
        "  # Path to the medoid file\n",
        "  file_path = \"/gdrive/My Drive/berlin_bike_CV/final_project_first_images/labelled_images/dinoS14_bikelanes_medoids.pickle\"\n",
        "\n",
        "  # Load medoid features and labels\n",
        "  with open(file_path, \"rb\") as myfile:\n",
        "      medoids = pickle.load(myfile)\n",
        "\n",
        "  # extract medoid features\n",
        "  street_lane_medoid = medoids[1]['street_shared'] # bike lanes that are shared with cars on the road\n",
        "  sidewalk_lane_medoid = medoids[1]['off_street'] # bike lanes that are separated and located on the side walk\n",
        "\n",
        "  # compare medoids to our image using cosine similarity\n",
        "  cos2street_lane = cosine_similarity(street_lane_medoid, img_features)\n",
        "  cos2sidewalk_lane = cosine_similarity(sidewalk_lane_medoid, img_features)\n",
        "\n",
        "  # find label. 0 and 1 are used for cobblestone vs. street so we use 2 and 3 here\n",
        "  if cos2sidewalk_lane >= cos2street_lane:\n",
        "    lane_label = 2 # safe bike lane\n",
        "  elif cos2street_lane >  cos2sidewalk_lane:\n",
        "    lane_label = 3 # unsafe bike lane\n",
        "  else:\n",
        "    print(\"Error: Lane comparison values are in wrong format!\")\n",
        "    assert False # stop script\n",
        "\n",
        "  return lane_label"
      ],
      "metadata": {
        "id": "QE9pLySEXMb2"
      },
      "execution_count": 10,
      "outputs": []
    },
    {
      "cell_type": "code",
      "source": [
        "def road_surface_classification(img_unsqueezed, model, threshold):\n",
        "# classify street image for cobblestone vs. asphalt\n",
        "\n",
        "  # Move the input tensor to the GPU\n",
        "  img_unsqueezed = img_unsqueezed.to(torch.device(\"cuda\"))\n",
        "\n",
        "  # put model in evaluation mode\n",
        "  model.eval()\n",
        "\n",
        "  # run inference\n",
        "  with torch.no_grad():\n",
        "      predicted_label = model(img_unsqueezed)\n",
        "\n",
        "  # Get the predicted class\n",
        "  if predicted_label.shape[-1] == 1:\n",
        "    pred_prop = predicted_label.squeeze().item()\n",
        "  else:\n",
        "    pred_prop = predicted_label[:, 1].item()\n",
        "\n",
        "  print(f\"   Prob: {pred_prop:.3f}\")\n",
        "  pred_index = probs_to_labels(pred_prop, threshold)\n",
        "  labels = ['road', 'cobblestones']\n",
        "  predicted_label = labels[pred_index]\n",
        "\n",
        "  return predicted_label, pred_index\n",
        "\n",
        "def probs_to_labels(probs, threshold):\n",
        " return int(probs >= threshold)"
      ],
      "metadata": {
        "id": "IyBKc3QZYiSS"
      },
      "execution_count": 11,
      "outputs": []
    },
    {
      "cell_type": "code",
      "source": [
        "def run_image_labelling(image_id, processor, mask2former, dino, model, thrashold):\n",
        "# label image\n",
        "\n",
        "  # labels\n",
        "  my_labels = ['asphalt', 'cobblestone', 'safe bike lane', 'unsafe bike lane']\n",
        "\n",
        "  # load image\n",
        "  image = load_mapillary_image(image_id)\n",
        "\n",
        "  # Is it a bike lane or not?\n",
        "  contains_bike_lane = bike_lane_detection(image, processor, mask2former) # use raw image because Mask2Former has its own image processing\n",
        "\n",
        "  # transform image for further processing in models\n",
        "  img_t = transform(image)\n",
        "  img_unsqueezed = torch.unsqueeze(img_t, 0) # add first singleton dimension, the 'batch'\n",
        "\n",
        "  # if image contains bike lane, compare it to medoids\n",
        "  if contains_bike_lane:\n",
        "    print('   Image contains bike lane. Moving on to bike-lane labelling.')\n",
        "\n",
        "    # extract features\n",
        "    img_features = get_image_features(img_unsqueezed, dino)\n",
        "\n",
        "    # assign label to bike lane\n",
        "    output_label = assign_bikelane_label(img_features)\n",
        "\n",
        "  else:\n",
        "    print('   No bike lane detected. Check if it is a cobblestone street')\n",
        "    predicted_label, output_label = road_surface_classification(img_unsqueezed, model, threshold)\n",
        "\n",
        "  return image_id, output_label, image"
      ],
      "metadata": {
        "id": "DRhmb4SPcaU4"
      },
      "execution_count": 12,
      "outputs": []
    },
    {
      "cell_type": "code",
      "source": [
        "# load all models outside loop for speed\n",
        "\n",
        "# mask2former\n",
        "processor = AutoImageProcessor.from_pretrained(\"facebook/mask2former-swin-large-mapillary-vistas-semantic\")\n",
        "mask2former = Mask2FormerForUniversalSegmentation.from_pretrained(\"facebook/mask2former-swin-large-mapillary-vistas-semantic\")\n",
        "\n",
        "# DinoV2\n",
        "dino = torch.hub.load('facebookresearch/dinov2', 'dinov2_vits14').to(torch.device(\"cuda\"))\n",
        "\n",
        "# ResNet\n",
        "model_path = '/gdrive/MyDrive/berlin_bike_CV/CobblestoneModel/EfficientNet_CELoss_opti_all_param.pt'\n",
        "model = torch.load(model_path).to(torch.device(\"cuda\"))\n",
        "threshold = 0.5\n"
      ],
      "metadata": {
        "colab": {
          "base_uri": "https://localhost:8080/",
          "height": 200,
          "referenced_widgets": [
            "3c8167e7a3564dab924ac5da44baa2a9",
            "ca93d6c09dd14d209f0b218afaa12b83",
            "0c000a5843034d00ac173843701989a1",
            "b416c467d33e44129fea10827f15f31d",
            "6e4de3a6c6434e72a0612f7393cde39e",
            "d090c8f4eaba4e749c32abeae769ca1b",
            "f4073276740b4b1f95fb513db3ea9488",
            "7bd47dfcab3945968d7c07632806dbd9",
            "ea9ef7ae98af449eba965c154c094963",
            "aadb17e3379342209cdba4361a174954",
            "d187b1391a73404bb6a7161a927e1388",
            "28b3b5b2b9ce4c50ad30100af3bb504a",
            "0dd59053361741498a52dd36cb549d37",
            "21be65a57efc40f69c76ca5194224713",
            "c50d31ca7b7446b28be7e1893bbd86cb",
            "402a61a1196646ea9a16a034f053acd2",
            "67d1b89cd67a431f85aee2c1ed076dac",
            "b4da7263a6b2442cbae54651dfb938ef",
            "74207e00293b42cba3d74b7b9b34e61c",
            "dd1a147f75004bd6abc383ef136ff8be",
            "e4a29d7e16994069917ba3de6729a1c1",
            "2a8fb4552c964f499c276efcce737b15",
            "ca10f8cd968d43a1a758efc5c1efdfe6",
            "cf0f40e228f74a0fac6bf13a1674eb8f",
            "32e101852db443c2806b1ac93ea9f3de",
            "8aea26e555314374a9879bded5a0ea27",
            "714ecee078204529a9511e7387f06d97",
            "752faf8f4a5845e8b0cfe1f066043fca",
            "9704fd36f3904332bbaf074cda62d50f",
            "460323cc549c43d0b15f54e74b9fda6b",
            "87e36dafcb4c4eeda0d7216ac5a72cbc",
            "c267f969a91f4080a698f6cd0ddeeda5",
            "a7dc70588af242fbac29b355ae6dfb0f"
          ]
        },
        "id": "r797BL26aCso",
        "outputId": "b8745103-e5da-45c9-c785-a089f5db6965"
      },
      "execution_count": 13,
      "outputs": [
        {
          "output_type": "display_data",
          "data": {
            "text/plain": [
              "Downloading (…)rocessor_config.json:   0%|          | 0.00/536 [00:00<?, ?B/s]"
            ],
            "application/vnd.jupyter.widget-view+json": {
              "version_major": 2,
              "version_minor": 0,
              "model_id": "3c8167e7a3564dab924ac5da44baa2a9"
            }
          },
          "metadata": {}
        },
        {
          "output_type": "display_data",
          "data": {
            "text/plain": [
              "Downloading (…)lve/main/config.json:   0%|          | 0.00/79.5k [00:00<?, ?B/s]"
            ],
            "application/vnd.jupyter.widget-view+json": {
              "version_major": 2,
              "version_minor": 0,
              "model_id": "28b3b5b2b9ce4c50ad30100af3bb504a"
            }
          },
          "metadata": {}
        },
        {
          "output_type": "display_data",
          "data": {
            "text/plain": [
              "Downloading pytorch_model.bin:   0%|          | 0.00/866M [00:00<?, ?B/s]"
            ],
            "application/vnd.jupyter.widget-view+json": {
              "version_major": 2,
              "version_minor": 0,
              "model_id": "ca10f8cd968d43a1a758efc5c1efdfe6"
            }
          },
          "metadata": {}
        },
        {
          "output_type": "stream",
          "name": "stderr",
          "text": [
            "Downloading: \"https://github.com/facebookresearch/dinov2/zipball/main\" to /root/.cache/torch/hub/main.zip\n",
            "WARNING:dinov2:xFormers not available\n",
            "WARNING:dinov2:xFormers not available\n",
            "Downloading: \"https://dl.fbaipublicfiles.com/dinov2/dinov2_vits14/dinov2_vits14_pretrain.pth\" to /root/.cache/torch/hub/checkpoints/dinov2_vits14_pretrain.pth\n",
            "100%|██████████| 84.2M/84.2M [00:00<00:00, 195MB/s]\n"
          ]
        }
      ]
    },
    {
      "cell_type": "markdown",
      "source": [
        "## Run image processing"
      ],
      "metadata": {
        "id": "lyrKENbCU8qN"
      }
    },
    {
      "cell_type": "code",
      "source": [
        "print(tiles)"
      ],
      "metadata": {
        "colab": {
          "base_uri": "https://localhost:8080/"
        },
        "id": "ANZRNPuYFmMS",
        "outputId": "66c3c86f-026e-4170-a951-d247d08d7237"
      },
      "execution_count": 14,
      "outputs": [
        {
          "output_type": "stream",
          "name": "stdout",
          "text": [
            "['12021023233301', '12021023233303', '12021023233321', '12021023233323', '12021023233310', '12021023233312', '12021023233330', '12021023233332', '12021023233311', '12021023233313', '12021023233331', '12021023233333', '12021023322200', '12021023322202', '12021023322220', '12021023322222']\n"
          ]
        }
      ]
    },
    {
      "cell_type": "code",
      "source": [
        "# choose tile to run image processing\n",
        "tile_quadkey = '12021023322222'"
      ],
      "metadata": {
        "id": "kRArE5YKHjOg"
      },
      "execution_count": 63,
      "outputs": []
    },
    {
      "cell_type": "code",
      "source": [
        "# load edges per tile with selected images\n",
        "file_name = '_tiles_edges_with_images.pkl'\n",
        "file_path = os.path.join(path, folder, name + file_name)\n",
        "with open(file_path, 'rb') as pickle_file:\n",
        "  tiles_images = pickle.load(pickle_file)\n",
        "\n",
        "# create new dict for desired tile\n",
        "tile_path = os.path.join(path, tile_folder, tile_quadkey + '_labeled.pkl')\n",
        "# check if target file for this tile exists\n",
        "if os.path.exists(tile_path):\n",
        "  with open(tile_path, 'rb') as pickle_file:\n",
        "    tile_labeled = pickle.load(pickle_file)\n",
        "else:\n",
        "  file_name = '_tiles_edges.pkl'\n",
        "  file_path = os.path.join(path, folder, name + file_name)\n",
        "  with open(file_path, 'rb') as pickle_file:\n",
        "    tiles_edges = pickle.load(pickle_file)\n",
        "  tile_labeled = tiles_edges[tile_quadkey]"
      ],
      "metadata": {
        "id": "0JK8flNsjfBb"
      },
      "execution_count": 64,
      "outputs": []
    },
    {
      "cell_type": "code",
      "source": [
        "# run pipeline\n",
        "\n",
        "for edge in tile_labeled:\n",
        "  # inference only for not yet labeld edges\n",
        "  if not tile_labeled[edge]:\n",
        "    print(f\"Edge: {edge}\")\n",
        "    # at least one image found in the polygon of the street\n",
        "    if tiles_images[tile_quadkey][edge]:\n",
        "      for img in tiles_images[tile_quadkey][edge]:\n",
        "        st = time.time()\n",
        "        image_id = list(img.keys())[0]\n",
        "        image_id_out, output_label, image = run_image_labelling(image_id, processor, mask2former, dino, model, threshold)\n",
        "        print(f\"   Image {image_id}: {labels_set[output_label]}\")\n",
        "        et = time.time()\n",
        "        # get the execution time\n",
        "        elapsed_time = et - st\n",
        "        print('   Execution time:', elapsed_time, 'seconds')\n",
        "        # TODO: if the image was useless, take next image\n",
        "        if output_label != 0:\n",
        "          break\n",
        "      image_dict = {'image_id': image_id, 'label': output_label}\n",
        "      image_dict.update(img[image_id])\n",
        "    # no image found in the polygon of the street\n",
        "    else:\n",
        "      image_dict = {'image_id': -1, 'label': -1}\n",
        "      output_label = 4\n",
        "\n",
        "    # update and save label\n",
        "    tile_labeled[edge].append(image_dict)\n",
        "    with open(tile_path, 'wb') as pickle_file:\n",
        "      pickle.dump(tile_labeled, pickle_file)\n",
        "    print(f\" final: {labels_set[output_label]}\")\n",
        "\n",
        "print(\"Done.\")"
      ],
      "metadata": {
        "colab": {
          "base_uri": "https://localhost:8080/"
        },
        "id": "DBSHWREqY7tf",
        "outputId": "3c0610a6-a992-414b-9022-7673f070a226"
      },
      "execution_count": 65,
      "outputs": [
        {
          "output_type": "stream",
          "name": "stdout",
          "text": [
            "Done.\n"
          ]
        }
      ]
    }
  ]
}