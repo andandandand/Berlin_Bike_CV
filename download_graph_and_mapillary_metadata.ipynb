{
  "cells": [
    {
      "cell_type": "code",
      "execution_count": null,
      "id": "-WCycAhBnU19",
      "metadata": {
        "id": "-WCycAhBnU19"
      },
      "outputs": [],
      "source": [
        "!pip install mercantile\n",
        "!pip install mapbox_vector_tile\n",
        "!pip install vt2geojson\n",
        "!pip install osmnx"
      ]
    },
    {
      "cell_type": "code",
      "execution_count": 2,
      "id": "A8-y_2McroK6",
      "metadata": {
        "id": "A8-y_2McroK6"
      },
      "outputs": [],
      "source": [
        "import os\n",
        "from google.colab import drive\n",
        "import osmnx as ox\n",
        "import networkx as nx\n",
        "import pickle\n",
        "import json\n",
        "import time\n",
        "import requests\n",
        "import mercantile, mapbox_vector_tile\n",
        "from vt2geojson.tools import vt_bytes_to_geojson\n"
      ]
    },
    {
      "attachments": {},
      "cell_type": "markdown",
      "id": "8KHrCfrNZDI8",
      "metadata": {
        "id": "8KHrCfrNZDI8"
      },
      "source": [
        "# Mount to Gdrive\n"
      ]
    },
    {
      "cell_type": "code",
      "execution_count": null,
      "id": "g0Bb5iDGZHit",
      "metadata": {
        "id": "g0Bb5iDGZHit"
      },
      "outputs": [],
      "source": [
        "# connect to drive\n",
        "drive.mount('/gdrive')"
      ]
    },
    {
      "attachments": {},
      "cell_type": "markdown",
      "id": "5k_XewavFK6A",
      "metadata": {
        "id": "5k_XewavFK6A"
      },
      "source": [
        "# Setup"
      ]
    },
    {
      "cell_type": "code",
      "execution_count": null,
      "id": "iH8xf6_zE_Dc",
      "metadata": {
        "id": "iH8xf6_zE_Dc"
      },
      "outputs": [],
      "source": [
        "# load mapillary access token\n",
        "file_path = '/gdrive/MyDrive/mapillary_token.txt'\n",
        "with open(file_path, 'r') as file:\n",
        "    access_token = file.read()\n",
        "\n",
        "# define path\n",
        "path = '/gdrive/MyDrive/berlin_bike_CV/'\n",
        "folder = 'metadata'\n",
        "mapillary_folder = 'mapillary'\n",
        "\n",
        "name = 'DSR'"
      ]
    },
    {
      "attachments": {},
      "cell_type": "markdown",
      "id": "xXqZtoQJKBnA",
      "metadata": {
        "id": "xXqZtoQJKBnA"
      },
      "source": [
        "# Download and Save Graph of Berlin"
      ]
    },
    {
      "cell_type": "code",
      "execution_count": 3,
      "id": "pDYJZl0O7T2L",
      "metadata": {
        "id": "pDYJZl0O7T2L"
      },
      "outputs": [],
      "source": [
        "### define area and network type\n",
        "\n",
        "# graph of Berlin\n",
        "# place_name = \"Berlin, Germany\"\n",
        "# G = ox.graph_from_place(place_name, network_type=\"bike\")\n",
        "# point: [lat, lon]\n",
        "# place_dsr = [52.500632881796925, 13.334863741376868]\n",
        "# G = ox.graph_from_point(place_dsr, dist=1000, network_type=\"bike\")\n",
        "# [north, south, east, west]\n",
        "bb_dsr = [52.534947724864615, 52.48412181578994, 13.379150390625, 13.295654296875]\n",
        "network_type = 'bike'\n",
        "\n",
        "G = ox.graph_from_bbox(*bb_dsr, network_type=network_type)"
      ]
    },
    {
      "cell_type": "code",
      "execution_count": 4,
      "id": "9OqK9XEIq9_2",
      "metadata": {
        "colab": {
          "base_uri": "https://localhost:8080/"
        },
        "id": "9OqK9XEIq9_2",
        "outputId": "09f19c3d-998d-448f-f53f-4c07263eb62c"
      },
      "outputs": [
        {
          "name": "stdout",
          "output_type": "stream",
          "text": [
            "Bounding Box:\n",
            "west: 13.2956688\n",
            "south: 52.4839151\n",
            "east: 13.3791321\n",
            "north: 52.5349833\n"
          ]
        }
      ],
      "source": [
        "# find bounding box\n",
        "gdf = ox.graph_to_gdfs(G, nodes=False, edges=True)\n",
        "bounding_box = gdf.total_bounds\n",
        "\n",
        "# show bounding box coordinates\n",
        "print(\"Bounding Box:\")\n",
        "print(\"west: \", bounding_box[0])\n",
        "print(\"south:\", bounding_box[1])\n",
        "print(\"east: \", bounding_box[2])\n",
        "print(\"north:\", bounding_box[3])"
      ]
    },
    {
      "cell_type": "code",
      "execution_count": null,
      "id": "iSEFzuTbA-n8",
      "metadata": {
        "id": "iSEFzuTbA-n8"
      },
      "outputs": [],
      "source": [
        "# save original graph\n",
        "graph_name = '_graph_origin.pkl'\n",
        "graph_path = os.path.join(path, folder, name + graph_name)\n",
        "with open(graph_path, 'wb') as pickle_file:\n",
        "    pickle.dump(G, pickle_file)"
      ]
    },
    {
      "attachments": {},
      "cell_type": "markdown",
      "id": "F4jl3ZA9Kbtr",
      "metadata": {
        "id": "F4jl3ZA9Kbtr"
      },
      "source": [
        "# Find Set of Tiles for Berlin"
      ]
    },
    {
      "cell_type": "code",
      "execution_count": 8,
      "id": "ec5a26b9-c252-48a7-b980-1926ab713307",
      "metadata": {
        "id": "ec5a26b9-c252-48a7-b980-1926ab713307"
      },
      "outputs": [],
      "source": [
        "# vector tile endpoints\n",
        "tile_coverage = \"mly1_public\"\n",
        "\n",
        "# vector tile endpoint\n",
        "tile_layer = \"image\"\n",
        "\n",
        "# get the list of tiles intersecting the bounding box\n",
        "tiles = list(mercantile.tiles(*bounding_box, 14))"
      ]
    },
    {
      "attachments": {},
      "cell_type": "markdown",
      "id": "cLHfSyufMApP",
      "metadata": {
        "id": "cLHfSyufMApP"
      },
      "source": [
        "# Divide and Save Set of Edges of Graph per Tile"
      ]
    },
    {
      "cell_type": "code",
      "execution_count": null,
      "id": "VrhOk-O0-S1t",
      "metadata": {
        "id": "VrhOk-O0-S1t"
      },
      "outputs": [],
      "source": [
        "def create_edges():\n",
        "  edges = []\n",
        "\n",
        "  for u, v, k in G.edges(keys=True):\n",
        "          edges.append((u, v, k))\n",
        "  return edges"
      ]
    },
    {
      "cell_type": "code",
      "execution_count": null,
      "id": "Avp3Aqyh-WS_",
      "metadata": {
        "id": "Avp3Aqyh-WS_"
      },
      "outputs": [],
      "source": [
        "def extract_edges(tile, remaining_edges):\n",
        "\n",
        "    edges = {}\n",
        "    remove_edges = []\n",
        "    min_lon, min_lat, max_lon, max_lat = mercantile.bounds(tile)\n",
        "\n",
        "    for (u, v, k) in remaining_edges:\n",
        "        u_x, u_y = G.nodes[u]['x'], G.nodes[u]['y']\n",
        "        v_x, v_y = G.nodes[v]['x'], G.nodes[v]['y']\n",
        "\n",
        "        if (min_lon <= u_x <= max_lon and min_lat <= u_y <= max_lat) or (min_lon <= v_x <= max_lon and min_lat <= v_y <= max_lat):\n",
        "          edges[(u, v, k)] = []\n",
        "          remove_edges.append((u, v, k))\n",
        "\n",
        "    for edge in reversed(remove_edges):\n",
        "        remaining_edges.remove(edge)\n",
        "\n",
        "    return edges, remaining_edges"
      ]
    },
    {
      "cell_type": "code",
      "execution_count": null,
      "id": "CpMWuCi6-fZe",
      "metadata": {
        "id": "CpMWuCi6-fZe"
      },
      "outputs": [],
      "source": [
        "def assign_edges_to_tiles(tiles):\n",
        "    remaining_edges = create_edges()\n",
        "    # print(len(remaining_edges))\n",
        "    tiles_data = {}\n",
        "\n",
        "    for i, tile in enumerate(tiles):\n",
        "        edges , remaining_edges = extract_edges(tile, remaining_edges)\n",
        "        if edges:\n",
        "          tiles_data[mercantile.quadkey(tile)] = edges\n",
        "\n",
        "    return tiles_data"
      ]
    },
    {
      "cell_type": "code",
      "execution_count": null,
      "id": "NlSVIS3IMARG",
      "metadata": {
        "id": "NlSVIS3IMARG"
      },
      "outputs": [],
      "source": [
        "# assign edgeset per tile\n",
        "tiles_data = assign_edges_to_tiles(tiles)"
      ]
    },
    {
      "cell_type": "code",
      "execution_count": null,
      "id": "P0Pi2-zpI5XE",
      "metadata": {
        "id": "P0Pi2-zpI5XE"
      },
      "outputs": [],
      "source": [
        "# save tiles with dict of edges\n",
        "file_name = '_tiles_edges.pkl'\n",
        "file_path = os.path.join(path, folder, name + file_name)\n",
        "with open(file_path, 'wb') as pickle_file:\n",
        "    pickle.dump(tiles_data, pickle_file)"
      ]
    },
    {
      "attachments": {},
      "cell_type": "markdown",
      "id": "94aDqjK2M4ok",
      "metadata": {
        "id": "94aDqjK2M4ok"
      },
      "source": [
        "# Download and Save Mapillary Metadata per Tile"
      ]
    },
    {
      "cell_type": "code",
      "execution_count": null,
      "id": "54863708-5801-4fd2-a9a5-b95e48f9d461",
      "metadata": {
        "id": "54863708-5801-4fd2-a9a5-b95e48f9d461",
        "tags": []
      },
      "outputs": [],
      "source": [
        "# TODO: take Mapillary API downloading rates into acount\n",
        "sleep_rate = 0.5\n",
        "\n",
        "west, south, east, north = bounding_box\n",
        "\n",
        "# loop over list of tiles to get Mapillary endpoints data and make request\n",
        "for tile_quadkey in tiles_data:\n",
        "    time.sleep(sleep_rate)\n",
        "    tile = mercantile.quadkey_to_tile(tile_quadkey)\n",
        "    tile_url = 'https://tiles.mapillary.com/maps/vtp/{}/2/{}/{}/{}?access_token={}'.format(tile_coverage,tile.z,tile.x,tile.y,access_token)\n",
        "    response = requests.get(tile_url)\n",
        "    data = vt_bytes_to_geojson(response.content, tile.x, tile.y, tile.z,layer=tile_layer)\n",
        "\n",
        "    tile_data = { \"type\": \"FeatureCollection\", \"features\": [] }\n",
        "\n",
        "    for feature in data['features']:\n",
        "\n",
        "        # avoid panorama pictures\n",
        "        if feature[\"properties\"][\"is_pano\"]:\n",
        "            continue\n",
        "\n",
        "        # get coordinates\n",
        "        lng = feature[\"geometry\"][\"coordinates\"][0]\n",
        "        lat = feature[\"geometry\"][\"coordinates\"][1]\n",
        "\n",
        "        # ensure feature falls inside bounding box since tiles can extend beyond\n",
        "        if lng > west and lng < east and lat > south and lat < north:\n",
        "\n",
        "            tile_data['features'].append(feature)\n",
        "\n",
        "    # save data per tile\n",
        "    file_name = tile_quadkey + '.geojson'\n",
        "    file_path = os.path.join(path, folder, mapillary_folder, file_name)\n",
        "    with open(file_path, 'w') as f:\n",
        "        json.dump(tile_data, f)\n",
        "\n",
        "\n",
        "print('Done')"
      ]
    }
  ],
  "metadata": {
    "colab": {
      "provenance": []
    },
    "kernelspec": {
      "display_name": "Python 3",
      "name": "python3"
    },
    "language_info": {
      "name": "python"
    }
  },
  "nbformat": 4,
  "nbformat_minor": 5
}
