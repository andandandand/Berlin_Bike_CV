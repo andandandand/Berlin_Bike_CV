{
  "cells": [
    {
      "cell_type": "code",
      "execution_count": null,
      "metadata": {
        "id": "-D5qp--CPIJ-"
      },
      "outputs": [],
      "source": [
        "!pip install osmnx\n",
        "!pip install mercantile"
      ]
    },
    {
      "cell_type": "code",
      "execution_count": null,
      "metadata": {
        "id": "FREPxtysPIyc"
      },
      "outputs": [],
      "source": [
        "import osmnx as ox\n",
        "import mercantile\n",
        "import matplotlib.pyplot as plt\n",
        "import networkx as nx\n",
        "import numpy as np\n",
        "import requests\n",
        "import shapely\n",
        "from shapely.geometry import Point, LineString, Polygon\n",
        "import pyproj\n",
        "import os\n",
        "from google.colab import drive\n",
        "import pickle\n",
        "import json\n",
        "import time\n",
        "import math"
      ]
    },
    {
      "attachments": {},
      "cell_type": "markdown",
      "metadata": {
        "id": "Dlpqh5crs0Il"
      },
      "source": [
        "# Mount to Gdrive"
      ]
    },
    {
      "cell_type": "code",
      "execution_count": null,
      "metadata": {
        "colab": {
          "base_uri": "https://localhost:8080/"
        },
        "id": "23k1RORDss7C",
        "outputId": "ef3d031f-959e-4f13-e726-08345697a323"
      },
      "outputs": [
        {
          "name": "stdout",
          "output_type": "stream",
          "text": [
            "Mounted at /gdrive\n"
          ]
        }
      ],
      "source": [
        "# connect to drive\n",
        "drive.mount('/gdrive')"
      ]
    },
    {
      "attachments": {},
      "cell_type": "markdown",
      "metadata": {
        "id": "PFlCk8NCJ1q7"
      },
      "source": [
        "# Setup"
      ]
    },
    {
      "cell_type": "code",
      "execution_count": null,
      "metadata": {
        "id": "jhamXfeJJ1Dc"
      },
      "outputs": [],
      "source": [
        "path = '/gdrive/MyDrive/berlin_bike_CV/'\n",
        "folder = 'metadata'\n",
        "mapillary_folder = 'mapillary'\n",
        "\n",
        "name = 'DSR'"
      ]
    },
    {
      "attachments": {},
      "cell_type": "markdown",
      "metadata": {
        "id": "BQyDsQGDQQZX"
      },
      "source": [
        "# Load Data"
      ]
    },
    {
      "cell_type": "code",
      "execution_count": null,
      "metadata": {
        "id": "_1cFdq4KPPmi"
      },
      "outputs": [],
      "source": [
        "# load original graph\n",
        "graph_name = '_graph_origin.pkl'\n",
        "graph_path = os.path.join(path, folder, name + graph_name)\n",
        "with open(graph_path, 'rb') as pickle_file:\n",
        "    G = pickle.load(pickle_file)\n",
        "\n",
        "# load edges per tile\n",
        "file_name = '_tiles_edges.pkl'\n",
        "file_path = os.path.join(path, folder, name + file_name)\n",
        "with open(file_path, 'rb') as pickle_file:\n",
        "  tiles_data = pickle.load(pickle_file)"
      ]
    },
    {
      "attachments": {},
      "cell_type": "markdown",
      "metadata": {
        "id": "yZZ6xZCaKEL4"
      },
      "source": [
        "# Find images per edge"
      ]
    },
    {
      "cell_type": "code",
      "execution_count": null,
      "metadata": {
        "id": "ZpjNvHaY1gmV"
      },
      "outputs": [],
      "source": [
        "# defining coordinate to metre and metre to coordinate transformers\n",
        "source_crs = pyproj.CRS(\"EPSG:4326\")  # WGS84 geographic coordinate system\n",
        "target_crs = pyproj.CRS(proj= 'utm', zone=33)  # Universal Transverse Mercator in meters\n",
        "\n",
        "transformer_coord_2_metre = pyproj.Transformer.from_crs(source_crs, target_crs, always_xy=True)\n",
        "\n",
        "transformer_metre_2_coord = pyproj.Transformer.from_crs(target_crs, source_crs, always_xy=True)"
      ]
    },
    {
      "cell_type": "code",
      "execution_count": null,
      "metadata": {
        "id": "KGVI5-RtHIQl"
      },
      "outputs": [],
      "source": [
        "# defining constant values for offset and width of each polygon (bounding box)\n",
        "\n",
        "# offset defines separation from street junction in metre\n",
        "POLYGONOFFSET = 5\n",
        "\n",
        "# width defines street width in metre\n",
        "POLYGONWIDTH = 10"
      ]
    },
    {
      "cell_type": "code",
      "execution_count": null,
      "metadata": {
        "id": "PSx0bCW6G0LV"
      },
      "outputs": [],
      "source": [
        "# defining point apart from a junction\n",
        "# TODO: take into account when street is shorter than the offset\n",
        "\n",
        "def find_point_on_line(point1, point2, distance=POLYGONOFFSET):\n",
        "\n",
        "  direction_vector = (point2[0] - point1[0], point2[1] - point1[1])\n",
        "  direction_length = math.sqrt(direction_vector[0]**2 + direction_vector[1]**2)\n",
        "  normalized_direction = (direction_vector[0] / direction_length, direction_vector[1] / direction_length)\n",
        "  point_on_line = (point1[0] + normalized_direction[0] * distance, point1[1] + normalized_direction[1] * distance)\n",
        "\n",
        "  return point_on_line"
      ]
    },
    {
      "cell_type": "code",
      "execution_count": null,
      "metadata": {
        "id": "AxNAATyVz4St"
      },
      "outputs": [],
      "source": [
        "# define polygon for street\n",
        "def street_polygon(u, v, k):\n",
        "\n",
        "  if 'geometry' in G.edges[(u, v, k)]:\n",
        "    geometry = G.edges[(u, v, k)]['geometry']\n",
        "\n",
        "  else:\n",
        "    geometry = LineString([(G.nodes[u]['x'], G.nodes[u]['y']), (G.nodes[v]['x'], G.nodes[v]['y'])])\n",
        "\n",
        "  list_geom = list(geometry.coords)\n",
        "  list_lon = [coord[0] for coord in list_geom]\n",
        "  list_lat = [coord[1] for coord in list_geom]\n",
        "\n",
        "  list_x, list_y = transformer_coord_2_metre.transform(list_lon, list_lat)\n",
        "\n",
        "  list_geom = list(zip(list_x, list_y))\n",
        "  list_geom[0] = find_point_on_line(list_geom[0], list_geom[1])\n",
        "  list_geom[-1] = find_point_on_line(list_geom[-1], list_geom[-2])\n",
        "  list_geom = LineString(list_geom)\n",
        "\n",
        "  transformed_polygon = list_geom.buffer(distance=POLYGONWIDTH, cap_style=3)\n",
        "\n",
        "  list_geom = list(transformed_polygon.exterior.coords)\n",
        "  list_x = [coord[0] for coord in list_geom]\n",
        "  list_y = [coord[1] for coord in list_geom]\n",
        "\n",
        "  list_lon, list_lat = transformer_metre_2_coord.transform(list_x, list_y)\n",
        "\n",
        "  polygon = Polygon(list(zip(list_lon, list_lat)))\n",
        "\n",
        "  return polygon"
      ]
    },
    {
      "cell_type": "code",
      "execution_count": null,
      "metadata": {
        "id": "Ufz5Ystmz7i0"
      },
      "outputs": [],
      "source": [
        "# point is within street polygon\n",
        "def is_in_street_polygon(point, polygon):\n",
        "\n",
        "  is_contained = polygon.contains(Point(point[0], point[1]))\n",
        "\n",
        "  return is_contained"
      ]
    },
    {
      "cell_type": "code",
      "execution_count": null,
      "metadata": {
        "colab": {
          "background_save": true
        },
        "id": "3H_AGyd7aaGo"
      },
      "outputs": [],
      "source": [
        "# find images per edges per tile\n",
        "for tile_quadkey, edges in tiles_data.items():\n",
        "  file_name = tile_quadkey + '.geojson'\n",
        "  file_path = os.path.join(path, folder, mapillary_folder, file_name)\n",
        "  with open(file_path, 'r') as f:\n",
        "      data = json.load(f)\n",
        "\n",
        "  for (u, v, k) in edges:\n",
        "      polygon = street_polygon(u, v, k)\n",
        "      image_list = []\n",
        "\n",
        "      for feature in data['features']:\n",
        "\n",
        "          # get coordinates\n",
        "          lng = feature['geometry']['coordinates'][0]\n",
        "          lat = feature['geometry']['coordinates'][1]\n",
        "\n",
        "          # take image id, if image within street polygon\n",
        "          if is_in_street_polygon((lng, lat), polygon):\n",
        "              image_id = feature['properties']['id']\n",
        "              image_prop = {image_id: {'coordinates': [lng, lat]}}\n",
        "              image_list.append(image_prop)\n",
        "\n",
        "              # stop after 3 images\n",
        "              if len(image_list) >= 3:\n",
        "                  break\n",
        "\n",
        "      tiles_data[tile_quadkey][(u, v, k)] = image_list"
      ]
    },
    {
      "cell_type": "code",
      "execution_count": null,
      "metadata": {
        "colab": {
          "background_save": true
        },
        "id": "PYJlUmaFbJi0",
        "outputId": "b05a2870-5b39-4c00-ab44-ee5c28f27d80"
      },
      "outputs": [
        {
          "name": "stdout",
          "output_type": "stream",
          "text": [
            "Done\n"
          ]
        }
      ],
      "source": [
        "# save dict of tiles with image data\n",
        "file_name = '_tiles_edges_with_images.pkl'\n",
        "file_path = os.path.join(path, folder, name + file_name)\n",
        "with open(file_path, 'wb') as pickle_file:\n",
        "    pickle.dump(tiles_data, pickle_file)\n",
        "\n",
        "print('Done')"
      ]
    }
  ],
  "metadata": {
    "colab": {
      "provenance": []
    },
    "kernelspec": {
      "display_name": "Python 3",
      "name": "python3"
    },
    "language_info": {
      "name": "python"
    }
  },
  "nbformat": 4,
  "nbformat_minor": 0
}
