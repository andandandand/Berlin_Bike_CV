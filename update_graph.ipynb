{
  "cells": [
    {
      "cell_type": "code",
      "execution_count": null,
      "metadata": {
        "id": "_ij6Yx2tXU3Z"
      },
      "outputs": [],
      "source": [
        "!pip install osmnx"
      ]
    },
    {
      "cell_type": "code",
      "execution_count": null,
      "metadata": {
        "id": "xZ4-1uRHW8h8"
      },
      "outputs": [],
      "source": [
        "import osmnx as ox\n",
        "import networkx as nx\n",
        "import pickle\n",
        "import os\n",
        "from google.colab import drive"
      ]
    },
    {
      "attachments": {},
      "cell_type": "markdown",
      "metadata": {
        "id": "GJ9vYSdtOi0O"
      },
      "source": [
        "# Mount gdrive"
      ]
    },
    {
      "cell_type": "code",
      "execution_count": null,
      "metadata": {
        "colab": {
          "base_uri": "https://localhost:8080/"
        },
        "id": "C5YnLtrmXIe3",
        "outputId": "36ab33fb-5cf0-405d-f2d9-9969a4f0d033"
      },
      "outputs": [
        {
          "name": "stdout",
          "output_type": "stream",
          "text": [
            "Mounted at /gdrive\n"
          ]
        }
      ],
      "source": [
        "# connect to drive\n",
        "drive.mount('/gdrive')"
      ]
    },
    {
      "attachments": {},
      "cell_type": "markdown",
      "metadata": {
        "id": "eTXVggAsOmCD"
      },
      "source": [
        "# Setup"
      ]
    },
    {
      "cell_type": "code",
      "execution_count": null,
      "metadata": {
        "id": "6ohEsjvFOnYJ"
      },
      "outputs": [],
      "source": [
        "path = '/gdrive/MyDrive/berlin_bike_CV/'\n",
        "folder = 'metadata'\n",
        "tile_folder = 'labeled_tiles'\n",
        "\n",
        "name = 'DSR'"
      ]
    },
    {
      "attachments": {},
      "cell_type": "markdown",
      "metadata": {
        "id": "P_GK0e_DXIzj"
      },
      "source": [
        "# Load Graph"
      ]
    },
    {
      "cell_type": "code",
      "execution_count": null,
      "metadata": {
        "colab": {
          "base_uri": "https://localhost:8080/"
        },
        "id": "KIpOeIp3l29A",
        "outputId": "e356b0c3-b078-4a9f-bf01-baa3e97368bb"
      },
      "outputs": [
        {
          "name": "stdout",
          "output_type": "stream",
          "text": [
            "['12021023233301', '12021023233303', '12021023233321', '12021023233323', '12021023233310', '12021023233312', '12021023233330', '12021023233332', '12021023233311', '12021023233313', '12021023233331', '12021023233333', '12021023322200', '12021023322202', '12021023322220', '12021023322222']\n"
          ]
        }
      ],
      "source": [
        "# load graph\n",
        "graph_name = '_graph_origin.pkl'\n",
        "graph_path = os.path.join(path, folder, name + graph_name)\n",
        "\n",
        "with open(graph_path, 'rb') as pickle_file:\n",
        "    G = pickle.load(pickle_file)\n",
        "\n",
        "# load tiles edges file for tiles\n",
        "file_name = '_tiles_edges.pkl'\n",
        "file_path = os.path.join(path, folder, name + file_name)\n",
        "with open(file_path, 'rb') as pickle_file:\n",
        "    tiles_edges = pickle.load(pickle_file)\n",
        "tiles = list(tiles_edges.keys())\n",
        "print(tiles)"
      ]
    },
    {
      "cell_type": "code",
      "execution_count": null,
      "metadata": {
        "id": "YY-ewbAwW8Ya"
      },
      "outputs": [],
      "source": [
        "# defining edge weights\n",
        "edge_weight = 'edge_weight'\n",
        "default_value = 100\n",
        "# defining edge color\n",
        "edge_colour = 'edge_colour'\n",
        "default_color = 'grey'"
      ]
    },
    {
      "cell_type": "code",
      "execution_count": null,
      "metadata": {
        "id": "anpHxzdjW8Oi"
      },
      "outputs": [],
      "source": [
        "# applying edge attribute to graph\n",
        "nx.set_edge_attributes(G, default_value, name=edge_weight)\n",
        "nx.set_edge_attributes(G, default_color, name=edge_colour)"
      ]
    },
    {
      "cell_type": "code",
      "execution_count": null,
      "metadata": {
        "id": "PdvXkFJnEbmq"
      },
      "outputs": [],
      "source": [
        "def lookup_weight(label):\n",
        "  weight = int(100)\n",
        "  if label == 0:\n",
        "    weight = 5\n",
        "  elif label == 1:\n",
        "    weight = 10\n",
        "  elif label == 2:\n",
        "    weight = 1\n",
        "  elif label == 3:\n",
        "    weight = 2\n",
        "  else:\n",
        "    weight = 15\n",
        "  return weight"
      ]
    },
    {
      "cell_type": "code",
      "execution_count": null,
      "metadata": {
        "id": "aInjRAgtWlub"
      },
      "outputs": [],
      "source": [
        "def lookup_colour(weight):\n",
        "  clr = 'white'\n",
        "  if weight == 5:\n",
        "    # blue\n",
        "    clr = '#478FCD'\n",
        "  elif weight == 10:\n",
        "    # red\n",
        "    clr = '#F15A22'\n",
        "  elif weight == 1:\n",
        "    # green\n",
        "    clr = '#5FAD46'\n",
        "  elif weight == 2:\n",
        "    # yellow\n",
        "    clr = '#FFDD00'\n",
        "  else:\n",
        "    # white\n",
        "    clr = 'white'\n",
        "  return clr"
      ]
    },
    {
      "cell_type": "code",
      "execution_count": null,
      "metadata": {
        "id": "mmN8sY0AW-Id"
      },
      "outputs": [],
      "source": [
        "# load labeled edges per tile\n",
        "for tile_quadkey in tiles:\n",
        "  tile_path = os.path.join(path, tile_folder, tile_quadkey + '_labeled.pkl')\n",
        "  if os.path.exists(tile_path):\n",
        "    with open(tile_path, 'rb') as pickle_file:\n",
        "      tiles_labeled = pickle.load(pickle_file)\n",
        "\n",
        "    for edge, value in tiles_labeled.items():\n",
        "      if value:\n",
        "        weight = lookup_weight(value[0]['label'])\n",
        "        color = lookup_colour(weight)\n",
        "        G.edges[edge][edge_weight] = weight\n",
        "        G.edges[edge][edge_colour] = color"
      ]
    },
    {
      "cell_type": "code",
      "execution_count": null,
      "metadata": {
        "id": "pdIhCu6JWU7X"
      },
      "outputs": [],
      "source": [
        "# save graph with weights\n",
        "graph_name = '_graph_weights_c2.pkl'\n",
        "graph_path = os.path.join(path, folder, name + graph_name)\n",
        "with open(graph_path, 'wb') as pickle_file:\n",
        "    pickle.dump(G, pickle_file)"
      ]
    }
  ],
  "metadata": {
    "colab": {
      "provenance": []
    },
    "kernelspec": {
      "display_name": "Python 3",
      "name": "python3"
    },
    "language_info": {
      "name": "python"
    }
  },
  "nbformat": 4,
  "nbformat_minor": 0
}
