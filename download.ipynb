{
 "cells": [
  {
   "cell_type": "code",
   "execution_count": 51,
   "id": "ec5a26b9-c252-48a7-b980-1926ab713307",
   "metadata": {},
   "outputs": [],
   "source": [
    "import mercantile, mapbox_vector_tile, requests, json, os\n",
    "from vt2geojson.tools import vt_bytes_to_geojson\n",
    "    \n",
    "# define an empty geojson as output\n",
    "output= { \"type\": \"FeatureCollection\", \"features\": [] }\n",
    "\n",
    "# vector tile endpoints -- change this in the API request to reference the correct endpoint\n",
    "tile_coverage = 'mly1_public'\n",
    "\n",
    "# tile layer depends which vector tile endpoints: \n",
    "# 1. if map features or traffic signs, it will be \"point\" always\n",
    "# 2. if looking for coverage, it will be \"image\" for points, \"sequence\" for lines, or \"overview\" for far zoom\n",
    "tile_layer = \"image\"\n",
    "\n",
    "# Mapillary access token -- user should provide their own\n",
    "access_token = 'MLY|6215450018543661|0bb93dcff4f69ed8b1a83e8474f34a89'\n",
    "\n",
    "# a bounding box in [east_lng,_south_lat,west_lng,north_lat] format\n",
    "west, south, east, north = [13.333556, 52.500114, 13.335836, 52.501032]\n",
    "\n",
    "# get the list of tiles with x and y coordinates which intersect our bounding box\n",
    "# MUST be at zoom level 14 where the data is available, other zooms currently not supported\n",
    "tiles = list(mercantile.tiles(west, south, east, north, 14))"
   ]
  },
  {
   "cell_type": "code",
   "execution_count": 52,
   "id": "54863708-5801-4fd2-a9a5-b95e48f9d461",
   "metadata": {
    "tags": []
   },
   "outputs": [
    {
     "name": "stdout",
     "output_type": "stream",
     "text": [
      "Done\n"
     ]
    }
   ],
   "source": [
    "\n",
    "\n",
    "# loop through list of tiles to get tile z/x/y to plug in to Mapillary endpoints and make request\n",
    "for tile in tiles:\n",
    "    tile_url = 'https://tiles.mapillary.com/maps/vtp/{}/2/{}/{}/{}?access_token={}'.format(tile_coverage,tile.z,tile.x,tile.y,access_token)\n",
    "    response = requests.get(tile_url)\n",
    "    data = vt_bytes_to_geojson(response.content, tile.x, tile.y, tile.z,layer=tile_layer)\n",
    "\n",
    "    # push to output geojson object if yes\n",
    "    for feature in data['features']:\n",
    "        \n",
    "        # get lng,lat of each feature\n",
    "        lng = feature['geometry']['coordinates'][0]\n",
    "        lat = feature['geometry']['coordinates'][1]\n",
    "        \n",
    "        # ensure feature falls inside bounding box since tiles can extend beyond\n",
    "        if lng > west and lng < east and lat > south and lat < north:\n",
    "\n",
    "            output['features'].append(feature)\n",
    "                \n",
    "            # create a folder for each unique sequence ID to group images by sequence\n",
    "            sequence_id = feature['properties']['sequence_id']\n",
    "            if not os.path.exists(sequence_id):\n",
    "                os.makedirs(sequence_id)\n",
    "\n",
    "            # request the URL of each image\n",
    "            image_id = feature['properties']['id']\n",
    "            header = {'Authorization' : 'OAuth {}'.format(access_token)}\n",
    "            url = 'https://graph.mapillary.com/{}?fields=thumb_2048_url'.format(image_id)\n",
    "            r = requests.get(url, headers=header)\n",
    "            data = r.json()\n",
    "            image_url = data['thumb_2048_url']\n",
    "\n",
    "            # save each image with ID as filename to directory by sequence ID\n",
    "            with open('{}/{}.jpg'.format(sequence_id, image_id), 'wb') as handler:\n",
    "                image_data = requests.get(image_url, stream=True).content\n",
    "                handler.write(image_data)\n",
    "                \n",
    "# save a local geojson with the filtered data\n",
    "with open('images.geojson', 'w') as f:\n",
    "    json.dump(output, f)\n",
    "    \n",
    "print('Done')"
   ]
  },
  {
   "cell_type": "code",
   "execution_count": null,
   "id": "ac00902d-f874-4fb3-836e-f3c41fd25561",
   "metadata": {},
   "outputs": [],
   "source": []
  }
 ],
 "metadata": {
  "kernelspec": {
   "display_name": "dsr-b34",
   "language": "python",
   "name": "dsr-b34"
  },
  "language_info": {
   "codemirror_mode": {
    "name": "ipython",
    "version": 3
   },
   "file_extension": ".py",
   "mimetype": "text/x-python",
   "name": "python",
   "nbconvert_exporter": "python",
   "pygments_lexer": "ipython3",
   "version": "3.10.10"
  }
 },
 "nbformat": 4,
 "nbformat_minor": 5
}
